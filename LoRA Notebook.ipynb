{
 "cells": [
  {
   "cell_type": "markdown",
   "metadata": {
    "id": "10Jr75p90cTY"
   },
   "source": [
    "# **Part 1 Basic**"
   ]
  },
  {
   "cell_type": "markdown",
   "metadata": {
    "id": "QxfNUG1yryjJ"
   },
   "source": [
    "Some preparations."
   ]
  },
  {
   "cell_type": "code",
   "execution_count": null,
   "metadata": {
    "colab": {
     "base_uri": "https://localhost:8080/"
    },
    "id": "y0xpxkUdEMbR",
    "outputId": "0bd3535a-ee57-484e-d0ec-52c29c3a8d98"
   },
   "outputs": [
    {
     "name": "stdout",
     "output_type": "stream",
     "text": [
      "Requirement already satisfied: transformers in /usr/local/lib/python3.10/dist-packages (4.40.1)\n",
      "Requirement already satisfied: filelock in /usr/local/lib/python3.10/dist-packages (from transformers) (3.13.4)\n",
      "Requirement already satisfied: huggingface-hub<1.0,>=0.19.3 in /usr/local/lib/python3.10/dist-packages (from transformers) (0.22.2)\n",
      "Requirement already satisfied: numpy>=1.17 in /usr/local/lib/python3.10/dist-packages (from transformers) (1.25.2)\n",
      "Requirement already satisfied: packaging>=20.0 in /usr/local/lib/python3.10/dist-packages (from transformers) (24.0)\n",
      "Requirement already satisfied: pyyaml>=5.1 in /usr/local/lib/python3.10/dist-packages (from transformers) (6.0.1)\n",
      "Requirement already satisfied: regex!=2019.12.17 in /usr/local/lib/python3.10/dist-packages (from transformers) (2023.12.25)\n",
      "Requirement already satisfied: requests in /usr/local/lib/python3.10/dist-packages (from transformers) (2.31.0)\n",
      "Requirement already satisfied: tokenizers<0.20,>=0.19 in /usr/local/lib/python3.10/dist-packages (from transformers) (0.19.1)\n",
      "Requirement already satisfied: safetensors>=0.4.1 in /usr/local/lib/python3.10/dist-packages (from transformers) (0.4.3)\n",
      "Requirement already satisfied: tqdm>=4.27 in /usr/local/lib/python3.10/dist-packages (from transformers) (4.66.2)\n",
      "Requirement already satisfied: fsspec>=2023.5.0 in /usr/local/lib/python3.10/dist-packages (from huggingface-hub<1.0,>=0.19.3->transformers) (2023.6.0)\n",
      "Requirement already satisfied: typing-extensions>=3.7.4.3 in /usr/local/lib/python3.10/dist-packages (from huggingface-hub<1.0,>=0.19.3->transformers) (4.11.0)\n",
      "Requirement already satisfied: charset-normalizer<4,>=2 in /usr/local/lib/python3.10/dist-packages (from requests->transformers) (3.3.2)\n",
      "Requirement already satisfied: idna<4,>=2.5 in /usr/local/lib/python3.10/dist-packages (from requests->transformers) (3.7)\n",
      "Requirement already satisfied: urllib3<3,>=1.21.1 in /usr/local/lib/python3.10/dist-packages (from requests->transformers) (2.0.7)\n",
      "Requirement already satisfied: certifi>=2017.4.17 in /usr/local/lib/python3.10/dist-packages (from requests->transformers) (2024.2.2)\n",
      "Requirement already satisfied: tf-keras in /usr/local/lib/python3.10/dist-packages (2.15.1)\n",
      "Requirement already satisfied: tensorflow<2.16,>=2.15 in /usr/local/lib/python3.10/dist-packages (from tf-keras) (2.15.0)\n",
      "Requirement already satisfied: absl-py>=1.0.0 in /usr/local/lib/python3.10/dist-packages (from tensorflow<2.16,>=2.15->tf-keras) (1.4.0)\n",
      "Requirement already satisfied: astunparse>=1.6.0 in /usr/local/lib/python3.10/dist-packages (from tensorflow<2.16,>=2.15->tf-keras) (1.6.3)\n",
      "Requirement already satisfied: flatbuffers>=23.5.26 in /usr/local/lib/python3.10/dist-packages (from tensorflow<2.16,>=2.15->tf-keras) (24.3.25)\n",
      "Requirement already satisfied: gast!=0.5.0,!=0.5.1,!=0.5.2,>=0.2.1 in /usr/local/lib/python3.10/dist-packages (from tensorflow<2.16,>=2.15->tf-keras) (0.5.4)\n",
      "Requirement already satisfied: google-pasta>=0.1.1 in /usr/local/lib/python3.10/dist-packages (from tensorflow<2.16,>=2.15->tf-keras) (0.2.0)\n",
      "Requirement already satisfied: h5py>=2.9.0 in /usr/local/lib/python3.10/dist-packages (from tensorflow<2.16,>=2.15->tf-keras) (3.9.0)\n",
      "Requirement already satisfied: libclang>=13.0.0 in /usr/local/lib/python3.10/dist-packages (from tensorflow<2.16,>=2.15->tf-keras) (18.1.1)\n",
      "Requirement already satisfied: ml-dtypes~=0.2.0 in /usr/local/lib/python3.10/dist-packages (from tensorflow<2.16,>=2.15->tf-keras) (0.2.0)\n",
      "Requirement already satisfied: numpy<2.0.0,>=1.23.5 in /usr/local/lib/python3.10/dist-packages (from tensorflow<2.16,>=2.15->tf-keras) (1.25.2)\n",
      "Requirement already satisfied: opt-einsum>=2.3.2 in /usr/local/lib/python3.10/dist-packages (from tensorflow<2.16,>=2.15->tf-keras) (3.3.0)\n",
      "Requirement already satisfied: packaging in /usr/local/lib/python3.10/dist-packages (from tensorflow<2.16,>=2.15->tf-keras) (24.0)\n",
      "Requirement already satisfied: protobuf!=4.21.0,!=4.21.1,!=4.21.2,!=4.21.3,!=4.21.4,!=4.21.5,<5.0.0dev,>=3.20.3 in /usr/local/lib/python3.10/dist-packages (from tensorflow<2.16,>=2.15->tf-keras) (3.20.3)\n",
      "Requirement already satisfied: setuptools in /usr/local/lib/python3.10/dist-packages (from tensorflow<2.16,>=2.15->tf-keras) (67.7.2)\n",
      "Requirement already satisfied: six>=1.12.0 in /usr/local/lib/python3.10/dist-packages (from tensorflow<2.16,>=2.15->tf-keras) (1.16.0)\n",
      "Requirement already satisfied: termcolor>=1.1.0 in /usr/local/lib/python3.10/dist-packages (from tensorflow<2.16,>=2.15->tf-keras) (2.4.0)\n",
      "Requirement already satisfied: typing-extensions>=3.6.6 in /usr/local/lib/python3.10/dist-packages (from tensorflow<2.16,>=2.15->tf-keras) (4.11.0)\n",
      "Requirement already satisfied: wrapt<1.15,>=1.11.0 in /usr/local/lib/python3.10/dist-packages (from tensorflow<2.16,>=2.15->tf-keras) (1.14.1)\n",
      "Requirement already satisfied: tensorflow-io-gcs-filesystem>=0.23.1 in /usr/local/lib/python3.10/dist-packages (from tensorflow<2.16,>=2.15->tf-keras) (0.36.0)\n",
      "Requirement already satisfied: grpcio<2.0,>=1.24.3 in /usr/local/lib/python3.10/dist-packages (from tensorflow<2.16,>=2.15->tf-keras) (1.62.2)\n",
      "Requirement already satisfied: tensorboard<2.16,>=2.15 in /usr/local/lib/python3.10/dist-packages (from tensorflow<2.16,>=2.15->tf-keras) (2.15.2)\n",
      "Requirement already satisfied: tensorflow-estimator<2.16,>=2.15.0 in /usr/local/lib/python3.10/dist-packages (from tensorflow<2.16,>=2.15->tf-keras) (2.15.0)\n",
      "Requirement already satisfied: keras<2.16,>=2.15.0 in /usr/local/lib/python3.10/dist-packages (from tensorflow<2.16,>=2.15->tf-keras) (2.15.0)\n",
      "Requirement already satisfied: wheel<1.0,>=0.23.0 in /usr/local/lib/python3.10/dist-packages (from astunparse>=1.6.0->tensorflow<2.16,>=2.15->tf-keras) (0.43.0)\n",
      "Requirement already satisfied: google-auth<3,>=1.6.3 in /usr/local/lib/python3.10/dist-packages (from tensorboard<2.16,>=2.15->tensorflow<2.16,>=2.15->tf-keras) (2.27.0)\n",
      "Requirement already satisfied: google-auth-oauthlib<2,>=0.5 in /usr/local/lib/python3.10/dist-packages (from tensorboard<2.16,>=2.15->tensorflow<2.16,>=2.15->tf-keras) (1.2.0)\n",
      "Requirement already satisfied: markdown>=2.6.8 in /usr/local/lib/python3.10/dist-packages (from tensorboard<2.16,>=2.15->tensorflow<2.16,>=2.15->tf-keras) (3.6)\n",
      "Requirement already satisfied: requests<3,>=2.21.0 in /usr/local/lib/python3.10/dist-packages (from tensorboard<2.16,>=2.15->tensorflow<2.16,>=2.15->tf-keras) (2.31.0)\n",
      "Requirement already satisfied: tensorboard-data-server<0.8.0,>=0.7.0 in /usr/local/lib/python3.10/dist-packages (from tensorboard<2.16,>=2.15->tensorflow<2.16,>=2.15->tf-keras) (0.7.2)\n",
      "Requirement already satisfied: werkzeug>=1.0.1 in /usr/local/lib/python3.10/dist-packages (from tensorboard<2.16,>=2.15->tensorflow<2.16,>=2.15->tf-keras) (3.0.2)\n",
      "Requirement already satisfied: cachetools<6.0,>=2.0.0 in /usr/local/lib/python3.10/dist-packages (from google-auth<3,>=1.6.3->tensorboard<2.16,>=2.15->tensorflow<2.16,>=2.15->tf-keras) (5.3.3)\n",
      "Requirement already satisfied: pyasn1-modules>=0.2.1 in /usr/local/lib/python3.10/dist-packages (from google-auth<3,>=1.6.3->tensorboard<2.16,>=2.15->tensorflow<2.16,>=2.15->tf-keras) (0.4.0)\n",
      "Requirement already satisfied: rsa<5,>=3.1.4 in /usr/local/lib/python3.10/dist-packages (from google-auth<3,>=1.6.3->tensorboard<2.16,>=2.15->tensorflow<2.16,>=2.15->tf-keras) (4.9)\n",
      "Requirement already satisfied: requests-oauthlib>=0.7.0 in /usr/local/lib/python3.10/dist-packages (from google-auth-oauthlib<2,>=0.5->tensorboard<2.16,>=2.15->tensorflow<2.16,>=2.15->tf-keras) (1.3.1)\n",
      "Requirement already satisfied: charset-normalizer<4,>=2 in /usr/local/lib/python3.10/dist-packages (from requests<3,>=2.21.0->tensorboard<2.16,>=2.15->tensorflow<2.16,>=2.15->tf-keras) (3.3.2)\n",
      "Requirement already satisfied: idna<4,>=2.5 in /usr/local/lib/python3.10/dist-packages (from requests<3,>=2.21.0->tensorboard<2.16,>=2.15->tensorflow<2.16,>=2.15->tf-keras) (3.7)\n",
      "Requirement already satisfied: urllib3<3,>=1.21.1 in /usr/local/lib/python3.10/dist-packages (from requests<3,>=2.21.0->tensorboard<2.16,>=2.15->tensorflow<2.16,>=2.15->tf-keras) (2.0.7)\n",
      "Requirement already satisfied: certifi>=2017.4.17 in /usr/local/lib/python3.10/dist-packages (from requests<3,>=2.21.0->tensorboard<2.16,>=2.15->tensorflow<2.16,>=2.15->tf-keras) (2024.2.2)\n",
      "Requirement already satisfied: MarkupSafe>=2.1.1 in /usr/local/lib/python3.10/dist-packages (from werkzeug>=1.0.1->tensorboard<2.16,>=2.15->tensorflow<2.16,>=2.15->tf-keras) (2.1.5)\n",
      "Requirement already satisfied: pyasn1<0.7.0,>=0.4.6 in /usr/local/lib/python3.10/dist-packages (from pyasn1-modules>=0.2.1->google-auth<3,>=1.6.3->tensorboard<2.16,>=2.15->tensorflow<2.16,>=2.15->tf-keras) (0.6.0)\n",
      "Requirement already satisfied: oauthlib>=3.0.0 in /usr/local/lib/python3.10/dist-packages (from requests-oauthlib>=0.7.0->google-auth-oauthlib<2,>=0.5->tensorboard<2.16,>=2.15->tensorflow<2.16,>=2.15->tf-keras) (3.2.2)\n",
      "Requirement already satisfied: datasets in /usr/local/lib/python3.10/dist-packages (2.19.0)\n",
      "Requirement already satisfied: filelock in /usr/local/lib/python3.10/dist-packages (from datasets) (3.13.4)\n",
      "Requirement already satisfied: numpy>=1.17 in /usr/local/lib/python3.10/dist-packages (from datasets) (1.25.2)\n",
      "Requirement already satisfied: pyarrow>=12.0.0 in /usr/local/lib/python3.10/dist-packages (from datasets) (14.0.2)\n",
      "Requirement already satisfied: pyarrow-hotfix in /usr/local/lib/python3.10/dist-packages (from datasets) (0.6)\n",
      "Requirement already satisfied: dill<0.3.9,>=0.3.0 in /usr/local/lib/python3.10/dist-packages (from datasets) (0.3.8)\n",
      "Requirement already satisfied: pandas in /usr/local/lib/python3.10/dist-packages (from datasets) (2.0.3)\n",
      "Requirement already satisfied: requests>=2.19.0 in /usr/local/lib/python3.10/dist-packages (from datasets) (2.31.0)\n",
      "Requirement already satisfied: tqdm>=4.62.1 in /usr/local/lib/python3.10/dist-packages (from datasets) (4.66.2)\n",
      "Requirement already satisfied: xxhash in /usr/local/lib/python3.10/dist-packages (from datasets) (3.4.1)\n",
      "Requirement already satisfied: multiprocess in /usr/local/lib/python3.10/dist-packages (from datasets) (0.70.16)\n",
      "Requirement already satisfied: fsspec[http]<=2024.3.1,>=2023.1.0 in /usr/local/lib/python3.10/dist-packages (from datasets) (2023.6.0)\n",
      "Requirement already satisfied: aiohttp in /usr/local/lib/python3.10/dist-packages (from datasets) (3.9.5)\n",
      "Requirement already satisfied: huggingface-hub>=0.21.2 in /usr/local/lib/python3.10/dist-packages (from datasets) (0.22.2)\n",
      "Requirement already satisfied: packaging in /usr/local/lib/python3.10/dist-packages (from datasets) (24.0)\n",
      "Requirement already satisfied: pyyaml>=5.1 in /usr/local/lib/python3.10/dist-packages (from datasets) (6.0.1)\n",
      "Requirement already satisfied: aiosignal>=1.1.2 in /usr/local/lib/python3.10/dist-packages (from aiohttp->datasets) (1.3.1)\n",
      "Requirement already satisfied: attrs>=17.3.0 in /usr/local/lib/python3.10/dist-packages (from aiohttp->datasets) (23.2.0)\n",
      "Requirement already satisfied: frozenlist>=1.1.1 in /usr/local/lib/python3.10/dist-packages (from aiohttp->datasets) (1.4.1)\n",
      "Requirement already satisfied: multidict<7.0,>=4.5 in /usr/local/lib/python3.10/dist-packages (from aiohttp->datasets) (6.0.5)\n",
      "Requirement already satisfied: yarl<2.0,>=1.0 in /usr/local/lib/python3.10/dist-packages (from aiohttp->datasets) (1.9.4)\n",
      "Requirement already satisfied: async-timeout<5.0,>=4.0 in /usr/local/lib/python3.10/dist-packages (from aiohttp->datasets) (4.0.3)\n",
      "Requirement already satisfied: typing-extensions>=3.7.4.3 in /usr/local/lib/python3.10/dist-packages (from huggingface-hub>=0.21.2->datasets) (4.11.0)\n",
      "Requirement already satisfied: charset-normalizer<4,>=2 in /usr/local/lib/python3.10/dist-packages (from requests>=2.19.0->datasets) (3.3.2)\n",
      "Requirement already satisfied: idna<4,>=2.5 in /usr/local/lib/python3.10/dist-packages (from requests>=2.19.0->datasets) (3.7)\n",
      "Requirement already satisfied: urllib3<3,>=1.21.1 in /usr/local/lib/python3.10/dist-packages (from requests>=2.19.0->datasets) (2.0.7)\n",
      "Requirement already satisfied: certifi>=2017.4.17 in /usr/local/lib/python3.10/dist-packages (from requests>=2.19.0->datasets) (2024.2.2)\n",
      "Requirement already satisfied: python-dateutil>=2.8.2 in /usr/local/lib/python3.10/dist-packages (from pandas->datasets) (2.8.2)\n",
      "Requirement already satisfied: pytz>=2020.1 in /usr/local/lib/python3.10/dist-packages (from pandas->datasets) (2023.4)\n",
      "Requirement already satisfied: tzdata>=2022.1 in /usr/local/lib/python3.10/dist-packages (from pandas->datasets) (2024.1)\n",
      "Requirement already satisfied: six>=1.5 in /usr/local/lib/python3.10/dist-packages (from python-dateutil>=2.8.2->pandas->datasets) (1.16.0)\n",
      "Requirement already satisfied: evaluate in /usr/local/lib/python3.10/dist-packages (0.4.2)\n",
      "Requirement already satisfied: datasets>=2.0.0 in /usr/local/lib/python3.10/dist-packages (from evaluate) (2.19.0)\n",
      "Requirement already satisfied: numpy>=1.17 in /usr/local/lib/python3.10/dist-packages (from evaluate) (1.25.2)\n",
      "Requirement already satisfied: dill in /usr/local/lib/python3.10/dist-packages (from evaluate) (0.3.8)\n",
      "Requirement already satisfied: pandas in /usr/local/lib/python3.10/dist-packages (from evaluate) (2.0.3)\n",
      "Requirement already satisfied: requests>=2.19.0 in /usr/local/lib/python3.10/dist-packages (from evaluate) (2.31.0)\n",
      "Requirement already satisfied: tqdm>=4.62.1 in /usr/local/lib/python3.10/dist-packages (from evaluate) (4.66.2)\n",
      "Requirement already satisfied: xxhash in /usr/local/lib/python3.10/dist-packages (from evaluate) (3.4.1)\n",
      "Requirement already satisfied: multiprocess in /usr/local/lib/python3.10/dist-packages (from evaluate) (0.70.16)\n",
      "Requirement already satisfied: fsspec[http]>=2021.05.0 in /usr/local/lib/python3.10/dist-packages (from evaluate) (2023.6.0)\n",
      "Requirement already satisfied: huggingface-hub>=0.7.0 in /usr/local/lib/python3.10/dist-packages (from evaluate) (0.22.2)\n",
      "Requirement already satisfied: packaging in /usr/local/lib/python3.10/dist-packages (from evaluate) (24.0)\n",
      "Requirement already satisfied: filelock in /usr/local/lib/python3.10/dist-packages (from datasets>=2.0.0->evaluate) (3.13.4)\n",
      "Requirement already satisfied: pyarrow>=12.0.0 in /usr/local/lib/python3.10/dist-packages (from datasets>=2.0.0->evaluate) (14.0.2)\n",
      "Requirement already satisfied: pyarrow-hotfix in /usr/local/lib/python3.10/dist-packages (from datasets>=2.0.0->evaluate) (0.6)\n",
      "Requirement already satisfied: aiohttp in /usr/local/lib/python3.10/dist-packages (from datasets>=2.0.0->evaluate) (3.9.5)\n",
      "Requirement already satisfied: pyyaml>=5.1 in /usr/local/lib/python3.10/dist-packages (from datasets>=2.0.0->evaluate) (6.0.1)\n",
      "Requirement already satisfied: typing-extensions>=3.7.4.3 in /usr/local/lib/python3.10/dist-packages (from huggingface-hub>=0.7.0->evaluate) (4.11.0)\n",
      "Requirement already satisfied: charset-normalizer<4,>=2 in /usr/local/lib/python3.10/dist-packages (from requests>=2.19.0->evaluate) (3.3.2)\n",
      "Requirement already satisfied: idna<4,>=2.5 in /usr/local/lib/python3.10/dist-packages (from requests>=2.19.0->evaluate) (3.7)\n",
      "Requirement already satisfied: urllib3<3,>=1.21.1 in /usr/local/lib/python3.10/dist-packages (from requests>=2.19.0->evaluate) (2.0.7)\n",
      "Requirement already satisfied: certifi>=2017.4.17 in /usr/local/lib/python3.10/dist-packages (from requests>=2.19.0->evaluate) (2024.2.2)\n",
      "Requirement already satisfied: python-dateutil>=2.8.2 in /usr/local/lib/python3.10/dist-packages (from pandas->evaluate) (2.8.2)\n",
      "Requirement already satisfied: pytz>=2020.1 in /usr/local/lib/python3.10/dist-packages (from pandas->evaluate) (2023.4)\n",
      "Requirement already satisfied: tzdata>=2022.1 in /usr/local/lib/python3.10/dist-packages (from pandas->evaluate) (2024.1)\n",
      "Requirement already satisfied: aiosignal>=1.1.2 in /usr/local/lib/python3.10/dist-packages (from aiohttp->datasets>=2.0.0->evaluate) (1.3.1)\n",
      "Requirement already satisfied: attrs>=17.3.0 in /usr/local/lib/python3.10/dist-packages (from aiohttp->datasets>=2.0.0->evaluate) (23.2.0)\n",
      "Requirement already satisfied: frozenlist>=1.1.1 in /usr/local/lib/python3.10/dist-packages (from aiohttp->datasets>=2.0.0->evaluate) (1.4.1)\n",
      "Requirement already satisfied: multidict<7.0,>=4.5 in /usr/local/lib/python3.10/dist-packages (from aiohttp->datasets>=2.0.0->evaluate) (6.0.5)\n",
      "Requirement already satisfied: yarl<2.0,>=1.0 in /usr/local/lib/python3.10/dist-packages (from aiohttp->datasets>=2.0.0->evaluate) (1.9.4)\n",
      "Requirement already satisfied: async-timeout<5.0,>=4.0 in /usr/local/lib/python3.10/dist-packages (from aiohttp->datasets>=2.0.0->evaluate) (4.0.3)\n",
      "Requirement already satisfied: six>=1.5 in /usr/local/lib/python3.10/dist-packages (from python-dateutil>=2.8.2->pandas->evaluate) (1.16.0)\n"
     ]
    }
   ],
   "source": [
    "%pip install --upgrade transformers\n",
    "%pip install tf-keras\n",
    "import os\n",
    "os.environ['TF_USE_LEGACY_KERAS'] = '1'\n",
    "%pip install datasets\n",
    "%pip install evaluate"
   ]
  },
  {
   "cell_type": "markdown",
   "metadata": {
    "id": "neEU7oP9sDWk"
   },
   "source": [
    "## **Fine-tune only the Classifier head**\n",
    "The model I chose for the basic part 1 is also the distilbert.\n",
    "\n",
    "We can download the model with a classifier from huggingface, and print the summary.\n",
    "\n",
    "We can find that the model consists of the distilbert layer and a classifier consisting of two dense layers.\n",
    "\n",
    "For now, all parameters are trainable."
   ]
  },
  {
   "cell_type": "code",
   "execution_count": null,
   "metadata": {
    "colab": {
     "base_uri": "https://localhost:8080/"
    },
    "id": "RzVDfeAZZxj9",
    "outputId": "f53b7a96-c360-4e31-e8fa-d176f935619d"
   },
   "outputs": [
    {
     "name": "stderr",
     "output_type": "stream",
     "text": [
      "/usr/local/lib/python3.10/dist-packages/huggingface_hub/utils/_token.py:89: UserWarning: \n",
      "The secret `HF_TOKEN` does not exist in your Colab secrets.\n",
      "To authenticate with the Hugging Face Hub, create a token in your settings tab (https://huggingface.co/settings/tokens), set it as secret in your Google Colab and restart your session.\n",
      "You will be able to reuse this secret in all of your notebooks.\n",
      "Please note that authentication is recommended but still optional to access public models or datasets.\n",
      "  warnings.warn(\n",
      "Some weights of the PyTorch model were not used when initializing the TF 2.0 model TFDistilBertForSequenceClassification: ['vocab_transform.bias', 'vocab_projector.bias', 'vocab_layer_norm.weight', 'vocab_layer_norm.bias', 'vocab_transform.weight']\n",
      "- This IS expected if you are initializing TFDistilBertForSequenceClassification from a PyTorch model trained on another task or with another architecture (e.g. initializing a TFBertForSequenceClassification model from a BertForPreTraining model).\n",
      "- This IS NOT expected if you are initializing TFDistilBertForSequenceClassification from a PyTorch model that you expect to be exactly identical (e.g. initializing a TFBertForSequenceClassification model from a BertForSequenceClassification model).\n",
      "Some weights or buffers of the TF 2.0 model TFDistilBertForSequenceClassification were not initialized from the PyTorch model and are newly initialized: ['pre_classifier.weight', 'pre_classifier.bias', 'classifier.weight', 'classifier.bias']\n",
      "You should probably TRAIN this model on a down-stream task to be able to use it for predictions and inference.\n"
     ]
    },
    {
     "name": "stdout",
     "output_type": "stream",
     "text": [
      "Model: \"tf_distil_bert_for_sequence_classification\"\n",
      "_________________________________________________________________\n",
      " Layer (type)                Output Shape              Param #   \n",
      "=================================================================\n",
      " distilbert (TFDistilBertMa  multiple                  66362880  \n",
      " inLayer)                                                        \n",
      "                                                                 \n",
      " pre_classifier (Dense)      multiple                  590592    \n",
      "                                                                 \n",
      " classifier (Dense)          multiple                  2307      \n",
      "                                                                 \n",
      " dropout_19 (Dropout)        multiple                  0 (unused)\n",
      "                                                                 \n",
      "=================================================================\n",
      "Total params: 66955779 (255.42 MB)\n",
      "Trainable params: 66955779 (255.42 MB)\n",
      "Non-trainable params: 0 (0.00 Byte)\n",
      "_________________________________________________________________\n"
     ]
    }
   ],
   "source": [
    "from transformers import AutoTokenizer, TFAutoModelForSequenceClassification\n",
    "import tensorflow as tf\n",
    "checkpoint = \"distilbert-base-uncased\"\n",
    "tokenizer = AutoTokenizer.from_pretrained(checkpoint)\n",
    "model = TFAutoModelForSequenceClassification.from_pretrained(checkpoint, num_labels=3, id2label={0: 'negative', 1: 'neutral', 2: 'positive'})\n",
    "model.summary()"
   ]
  },
  {
   "cell_type": "markdown",
   "metadata": {
    "id": "iu_wsj-OsJhS"
   },
   "source": [
    "To determine how well my Pre-Trained model performs on financial data, we can freeze the distilbert layer.\n",
    "\n",
    "Now, only the parameters of the classifier can be trained."
   ]
  },
  {
   "cell_type": "code",
   "execution_count": null,
   "metadata": {
    "colab": {
     "base_uri": "https://localhost:8080/"
    },
    "id": "OL02jS4yYe6v",
    "outputId": "1c6d1f98-2646-4327-ee1e-dbd24326b0ae"
   },
   "outputs": [
    {
     "name": "stdout",
     "output_type": "stream",
     "text": [
      "Model: \"tf_distil_bert_for_sequence_classification\"\n",
      "_________________________________________________________________\n",
      " Layer (type)                Output Shape              Param #   \n",
      "=================================================================\n",
      " distilbert (TFDistilBertMa  multiple                  66362880  \n",
      " inLayer)                                                        \n",
      "                                                                 \n",
      " pre_classifier (Dense)      multiple                  590592    \n",
      "                                                                 \n",
      " classifier (Dense)          multiple                  2307      \n",
      "                                                                 \n",
      " dropout_19 (Dropout)        multiple                  0 (unused)\n",
      "                                                                 \n",
      "=================================================================\n",
      "Total params: 66955779 (255.42 MB)\n",
      "Trainable params: 592899 (2.26 MB)\n",
      "Non-trainable params: 66362880 (253.15 MB)\n",
      "_________________________________________________________________\n"
     ]
    }
   ],
   "source": [
    "distilbert_layer = model.get_layer('distilbert')\n",
    "distilbert_layer.trainable = False\n",
    "model.summary()"
   ]
  },
  {
   "cell_type": "markdown",
   "metadata": {
    "id": "R510TmlqsPGx"
   },
   "source": [
    "We access the dataset from the huggingface.\n",
    "\n",
    "Then  we shuffle the dataset, and split it into trainset and testset.\n",
    "\n",
    "Finally, we can convert the datasets to tf_datasets."
   ]
  },
  {
   "cell_type": "code",
   "execution_count": null,
   "metadata": {
    "colab": {
     "base_uri": "https://localhost:8080/",
     "height": 227,
     "referenced_widgets": [
      "85cf249a981f44bead5e60cd0a724d53",
      "0659eb12dd6d446389f45bef7f47a8f9",
      "9110f79426834b3faa2f1a35c1e5a01e",
      "771cc97be91a43a5be2ec99f5e9246a2",
      "87077ab262da4039b288cfc5d4f6f827",
      "60bccfa6ede04678ae4fdef83f49b365",
      "f3826d14abc944af81b0d04dbe4385b1",
      "56d7ef83f0734f9781bcaeea7ff0fd63",
      "cb82821b57124967ac84c0f0e42015ed",
      "aa5d36724bde4427932366a2b1b116b1",
      "62dfa995d7804999992cea7d390fedd1",
      "bfef761fb0b441cc9c67b29000cd8ac3",
      "c12f1814f93546e6b4de31d609faef2f",
      "5162f6d0f0d84a55856deaf50d3f9c0e",
      "0c97276e30d8499c863ba442925ad942",
      "d11a90f527c5498091f719786908be90",
      "f7219a22ef484f6b8889320dcf691989",
      "31c72e4ac6f342b09127d97c3117f089",
      "3647323f6c324b91a08cb5d6bb375b91",
      "b5e901371de34758a4626c699a7667bc",
      "0cff225771c14201a80bbf47c5172170",
      "dd5bc4ec16a743a9b6bf22fa47a9abae"
     ]
    },
    "id": "oetyEeH0Z1OW",
    "outputId": "42a7a333-4408-4247-8a73-0bb73d577b93"
   },
   "outputs": [
    {
     "data": {
      "application/vnd.jupyter.widget-view+json": {
       "model_id": "85cf249a981f44bead5e60cd0a724d53",
       "version_major": 2,
       "version_minor": 0
      },
      "text/plain": [
       "Map:   0%|          | 0/1811 [00:00<?, ? examples/s]"
      ]
     },
     "metadata": {},
     "output_type": "display_data"
    },
    {
     "name": "stderr",
     "output_type": "stream",
     "text": [
      "Asking to truncate to max_length but no maximum length is provided and the model has no predefined maximum length. Default to no truncation.\n"
     ]
    },
    {
     "data": {
      "application/vnd.jupyter.widget-view+json": {
       "model_id": "bfef761fb0b441cc9c67b29000cd8ac3",
       "version_major": 2,
       "version_minor": 0
      },
      "text/plain": [
       "Map:   0%|          | 0/453 [00:00<?, ? examples/s]"
      ]
     },
     "metadata": {},
     "output_type": "display_data"
    },
    {
     "name": "stderr",
     "output_type": "stream",
     "text": [
      "/usr/local/lib/python3.10/dist-packages/datasets/arrow_dataset.py:410: FutureWarning: The output of `to_tf_dataset` will change when a passing single element list for `labels` or `columns` in the next datasets version. To return a tuple structure rather than dict, pass a single string.\n",
      "Old behaviour: columns=['a'], labels=['labels'] -> (tf.Tensor, tf.Tensor)  \n",
      "             : columns='a', labels='labels' -> (tf.Tensor, tf.Tensor)  \n",
      "New behaviour: columns=['a'],labels=['labels'] -> ({'a': tf.Tensor}, {'labels': tf.Tensor})  \n",
      "             : columns='a', labels='labels' -> (tf.Tensor, tf.Tensor) \n",
      "  warnings.warn(\n"
     ]
    }
   ],
   "source": [
    "from datasets import load_dataset\n",
    "from transformers import DataCollatorWithPadding\n",
    "raw_datasets = load_dataset(\"financial_phrasebank\", \"sentences_allagree\")\n",
    "shuffled_dataset=raw_datasets[\"train\"].shuffle(seed=99)\n",
    "splited_datasets=shuffled_dataset.train_test_split(test_size=0.2)\n",
    "\n",
    "def tokenize_function(example):\n",
    "  return tokenizer(example[\"sentence\"], truncation=True)\n",
    "tokenized_datasets = splited_datasets.map(tokenize_function, batched=True)\n",
    "\n",
    "\n",
    "data_collator = DataCollatorWithPadding(tokenizer=tokenizer, return_tensors=\"tf\")\n",
    "\n",
    "tf_train_dataset = tokenized_datasets[\"train\"].to_tf_dataset(\n",
    "    columns=[\"attention_mask\", \"input_ids\", \"label\"],\n",
    "    label_cols=[\"label\"],\n",
    "    collate_fn=data_collator,\n",
    "    batch_size=12,\n",
    ")\n",
    "\n",
    "tf_test_dataset = tokenized_datasets[\"test\"].to_tf_dataset(\n",
    "    columns=[\"attention_mask\", \"input_ids\", \"label\"],\n",
    "    label_cols=[\"label\"],\n",
    "    collate_fn=data_collator,\n",
    "    batch_size=12,\n",
    ")"
   ]
  },
  {
   "cell_type": "markdown",
   "metadata": {
    "id": "OIXih_-Is3mW"
   },
   "source": [
    "Now, we can train the classifier."
   ]
  },
  {
   "cell_type": "code",
   "execution_count": null,
   "metadata": {
    "colab": {
     "base_uri": "https://localhost:8080/"
    },
    "id": "0ewEXeKxvXE9",
    "outputId": "2f7423bd-0ffa-4bf3-dd4c-32393dde1279"
   },
   "outputs": [
    {
     "name": "stdout",
     "output_type": "stream",
     "text": [
      "Epoch 1/3\n"
     ]
    },
    {
     "name": "stderr",
     "output_type": "stream",
     "text": [
      "WARNING:tensorflow:AutoGraph could not transform <function infer_framework at 0x783d519bfd90> and will run it as-is.\n",
      "Cause: for/else statement not yet supported\n",
      "To silence this warning, decorate the function with @tf.autograph.experimental.do_not_convert\n"
     ]
    },
    {
     "name": "stdout",
     "output_type": "stream",
     "text": [
      "WARNING: AutoGraph could not transform <function infer_framework at 0x783d519bfd90> and will run it as-is.\n",
      "Cause: for/else statement not yet supported\n",
      "To silence this warning, decorate the function with @tf.autograph.experimental.do_not_convert\n",
      "151/151 [==============================] - 60s 33ms/step - loss: 0.5420 - accuracy: 0.7537\n",
      "Epoch 2/3\n",
      "151/151 [==============================] - 6s 37ms/step - loss: 0.3830 - accuracy: 0.8332\n",
      "Epoch 3/3\n",
      "151/151 [==============================] - 5s 33ms/step - loss: 0.3422 - accuracy: 0.8553\n"
     ]
    },
    {
     "data": {
      "text/plain": [
       "<tf_keras.src.callbacks.History at 0x783ca7d45cf0>"
      ]
     },
     "execution_count": 5,
     "metadata": {},
     "output_type": "execute_result"
    }
   ],
   "source": [
    "from tensorflow.keras.losses import SparseCategoricalCrossentropy\n",
    "model.compile(\n",
    "    optimizer=\"adam\",\n",
    "    loss=SparseCategoricalCrossentropy(from_logits=True),\n",
    "    metrics=[\"accuracy\"],\n",
    ")\n",
    "model.fit(tf_train_dataset, epochs=3)"
   ]
  },
  {
   "cell_type": "markdown",
   "metadata": {
    "id": "rfkD_w8Ns8yo"
   },
   "source": [
    "The, let's print the accuracy on the testset.\n",
    "\n",
    "Even though we only trained the classifier, the result is already good."
   ]
  },
  {
   "cell_type": "code",
   "execution_count": null,
   "metadata": {
    "colab": {
     "base_uri": "https://localhost:8080/"
    },
    "id": "Byuhiblch0JR",
    "outputId": "4c76397d-5832-44a8-f8b2-ec75cbb61104"
   },
   "outputs": [
    {
     "name": "stdout",
     "output_type": "stream",
     "text": [
      "38/38 [==============================] - 6s 32ms/step\n"
     ]
    },
    {
     "data": {
      "text/plain": [
       "{'accuracy': 0.8322295805739515}"
      ]
     },
     "execution_count": 6,
     "metadata": {},
     "output_type": "execute_result"
    }
   ],
   "source": [
    "import numpy as np\n",
    "import evaluate\n",
    "preds = model.predict(tf_test_dataset)[\"logits\"]\n",
    "\n",
    "class_preds = np.argmax(preds, axis=1)\n",
    "metric = evaluate.load(\"accuracy\")\n",
    "metric.compute(predictions=class_preds, references=tokenized_datasets[\"test\"][\"label\"])"
   ]
  },
  {
   "cell_type": "markdown",
   "metadata": {
    "id": "9GfjejK0Dg--"
   },
   "source": [
    "We can save the model for part 2."
   ]
  },
  {
   "cell_type": "code",
   "execution_count": null,
   "metadata": {
    "id": "uEf0qVFtwmlz"
   },
   "outputs": [],
   "source": [
    "model.save_pretrained('saved_model_path')"
   ]
  },
  {
   "cell_type": "markdown",
   "metadata": {
    "id": "95owWYWgtBjS"
   },
   "source": [
    "## **Keeping the trained Classifier head of the first part: Fine-tune all the weights**"
   ]
  },
  {
   "cell_type": "markdown",
   "metadata": {
    "id": "gtdI8rgSE_BH"
   },
   "source": [
    "Now, let's freeze the parameters of the classifier and set the parameters of the distilbert layer trainable."
   ]
  },
  {
   "cell_type": "code",
   "execution_count": null,
   "metadata": {
    "colab": {
     "base_uri": "https://localhost:8080/"
    },
    "id": "rt_Qpys97bJl",
    "outputId": "b59d6fd5-222e-4cab-e30f-2f941ccd2b78"
   },
   "outputs": [
    {
     "name": "stdout",
     "output_type": "stream",
     "text": [
      "Model: \"tf_distil_bert_for_sequence_classification\"\n",
      "_________________________________________________________________\n",
      " Layer (type)                Output Shape              Param #   \n",
      "=================================================================\n",
      " distilbert (TFDistilBertMa  multiple                  66362880  \n",
      " inLayer)                                                        \n",
      "                                                                 \n",
      " pre_classifier (Dense)      multiple                  590592    \n",
      "                                                                 \n",
      " classifier (Dense)          multiple                  2307      \n",
      "                                                                 \n",
      " dropout_19 (Dropout)        multiple                  0         \n",
      "                                                                 \n",
      "=================================================================\n",
      "Total params: 66955779 (255.42 MB)\n",
      "Trainable params: 66362880 (253.15 MB)\n",
      "Non-trainable params: 592899 (2.26 MB)\n",
      "_________________________________________________________________\n"
     ]
    }
   ],
   "source": [
    "for layer in model.layers:\n",
    "  layer.trainable = False\n",
    "model.get_layer(\"distilbert\").trainable = True\n",
    "model.summary()"
   ]
  },
  {
   "cell_type": "markdown",
   "metadata": {
    "id": "2RUQIpu4tGP9"
   },
   "source": [
    "If I use the previous opt and loss, the results are even wrose than only fine-tuning the classifier."
   ]
  },
  {
   "cell_type": "markdown",
   "metadata": {
    "id": "kqRLiCvVOa_g"
   },
   "source": [
    "The screenshot of the results if I use the previous opt and loss:![e68025e25841d8ff63d1a432a5b8342.png](data:image/png;base64,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)"
   ]
  },
  {
   "cell_type": "markdown",
   "metadata": {
    "id": "La2lI7rWLDtv"
   },
   "source": [
    "The reason is the learning rate is too high so that the parameters may \"forget\" their prior training.\n",
    "\n",
    "Thus, we can usee the opt and loss that our huggingface course used.\n",
    "\n",
    "Then, let's try again.\n",
    "\n",
    "We can find that the accuracy is pretty high."
   ]
  },
  {
   "cell_type": "code",
   "execution_count": null,
   "metadata": {
    "colab": {
     "base_uri": "https://localhost:8080/"
    },
    "id": "5XQeLtVD7iMY",
    "outputId": "c51525de-0374-414e-c40c-294e49dc4b24"
   },
   "outputs": [
    {
     "name": "stdout",
     "output_type": "stream",
     "text": [
      "Epoch 1/3\n",
      "151/151 [==============================] - 58s 173ms/step - loss: 0.1966 - accuracy: 0.9260\n",
      "Epoch 2/3\n",
      "151/151 [==============================] - 13s 88ms/step - loss: 0.0300 - accuracy: 0.9873\n",
      "Epoch 3/3\n",
      "151/151 [==============================] - 13s 89ms/step - loss: 0.0093 - accuracy: 0.9972\n",
      "38/38 [==============================] - 6s 33ms/step\n"
     ]
    },
    {
     "data": {
      "text/plain": [
       "{'accuracy': 0.9735099337748344}"
      ]
     },
     "execution_count": 9,
     "metadata": {},
     "output_type": "execute_result"
    }
   ],
   "source": [
    "from tensorflow.keras.optimizers.schedules import PolynomialDecay\n",
    "batch_size = 12\n",
    "num_epochs = 3\n",
    "\n",
    "num_train_steps = len(tf_train_dataset) * num_epochs\n",
    "lr_scheduler = PolynomialDecay(\n",
    "    initial_learning_rate=5e-5, end_learning_rate=0.0, decay_steps=num_train_steps\n",
    ")\n",
    "from tensorflow.keras.optimizers import Adam\n",
    "\n",
    "opt = Adam(learning_rate=lr_scheduler)\n",
    "loss = tf.keras.losses.SparseCategoricalCrossentropy(from_logits=True)\n",
    "model.compile(optimizer=opt, loss=loss, metrics=[\"accuracy\"])\n",
    "\n",
    "model.fit(tf_train_dataset, epochs=3)\n",
    "\n",
    "preds = model.predict(tf_test_dataset)[\"logits\"]\n",
    "class_preds = np.argmax(preds, axis=1)\n",
    "metric.compute(predictions=class_preds, references=tokenized_datasets[\"test\"][\"label\"])"
   ]
  },
  {
   "cell_type": "markdown",
   "metadata": {
    "id": "zIXrCupVtNwv"
   },
   "source": [
    "## **Fine-tune all the weights (Pre-Trained + Classifier Head) simultaneously**"
   ]
  },
  {
   "cell_type": "markdown",
   "metadata": {
    "id": "K5H3REhcMKBH"
   },
   "source": [
    "Let's redownload the model to make sure all parameters are untrained and trainable."
   ]
  },
  {
   "cell_type": "code",
   "execution_count": null,
   "metadata": {
    "colab": {
     "base_uri": "https://localhost:8080/"
    },
    "id": "GkJzpEKO-5HW",
    "outputId": "f8569d81-eba7-4893-b725-052c48f5e5dd"
   },
   "outputs": [
    {
     "name": "stderr",
     "output_type": "stream",
     "text": [
      "Some weights of the PyTorch model were not used when initializing the TF 2.0 model TFDistilBertForSequenceClassification: ['vocab_transform.bias', 'vocab_projector.bias', 'vocab_layer_norm.weight', 'vocab_layer_norm.bias', 'vocab_transform.weight']\n",
      "- This IS expected if you are initializing TFDistilBertForSequenceClassification from a PyTorch model trained on another task or with another architecture (e.g. initializing a TFBertForSequenceClassification model from a BertForPreTraining model).\n",
      "- This IS NOT expected if you are initializing TFDistilBertForSequenceClassification from a PyTorch model that you expect to be exactly identical (e.g. initializing a TFBertForSequenceClassification model from a BertForSequenceClassification model).\n",
      "Some weights or buffers of the TF 2.0 model TFDistilBertForSequenceClassification were not initialized from the PyTorch model and are newly initialized: ['pre_classifier.weight', 'pre_classifier.bias', 'classifier.weight', 'classifier.bias']\n",
      "You should probably TRAIN this model on a down-stream task to be able to use it for predictions and inference.\n"
     ]
    },
    {
     "name": "stdout",
     "output_type": "stream",
     "text": [
      "Model: \"tf_distil_bert_for_sequence_classification_1\"\n",
      "_________________________________________________________________\n",
      " Layer (type)                Output Shape              Param #   \n",
      "=================================================================\n",
      " distilbert (TFDistilBertMa  multiple                  66362880  \n",
      " inLayer)                                                        \n",
      "                                                                 \n",
      " pre_classifier (Dense)      multiple                  590592    \n",
      "                                                                 \n",
      " classifier (Dense)          multiple                  2307      \n",
      "                                                                 \n",
      " dropout_39 (Dropout)        multiple                  0 (unused)\n",
      "                                                                 \n",
      "=================================================================\n",
      "Total params: 66955779 (255.42 MB)\n",
      "Trainable params: 66955779 (255.42 MB)\n",
      "Non-trainable params: 0 (0.00 Byte)\n",
      "_________________________________________________________________\n"
     ]
    }
   ],
   "source": [
    "model = TFAutoModelForSequenceClassification.from_pretrained(checkpoint, num_labels=3, id2label={0: 'negative', 1: 'neutral', 2: 'positive'})\n",
    "model.summary()"
   ]
  },
  {
   "cell_type": "markdown",
   "metadata": {
    "id": "N3uAyIVitTUv"
   },
   "source": [
    "Let's fine-tune all the parameters and test the performace on the testset.\n",
    "\n",
    "The result is similar to the sub-part2."
   ]
  },
  {
   "cell_type": "code",
   "execution_count": null,
   "metadata": {
    "colab": {
     "base_uri": "https://localhost:8080/"
    },
    "id": "zkdE5TrX-_GG",
    "outputId": "508e6926-48d6-4f4e-8da4-579bfe5b793a"
   },
   "outputs": [
    {
     "name": "stdout",
     "output_type": "stream",
     "text": [
      "Epoch 1/3\n",
      "151/151 [==============================] - 56s 159ms/step - loss: 0.3437 - accuracy: 0.8691\n",
      "Epoch 2/3\n",
      "151/151 [==============================] - 14s 92ms/step - loss: 0.0810 - accuracy: 0.9763\n",
      "Epoch 3/3\n",
      "151/151 [==============================] - 14s 90ms/step - loss: 0.0348 - accuracy: 0.9917\n",
      "38/38 [==============================] - 6s 45ms/step\n"
     ]
    },
    {
     "data": {
      "text/plain": [
       "{'accuracy': 0.9668874172185431}"
      ]
     },
     "execution_count": 11,
     "metadata": {},
     "output_type": "execute_result"
    }
   ],
   "source": [
    "opt = Adam(learning_rate=lr_scheduler)\n",
    "loss = tf.keras.losses.SparseCategoricalCrossentropy(from_logits=True)\n",
    "model.compile(optimizer=opt, loss=loss, metrics=[\"accuracy\"])\n",
    "model.fit(tf_train_dataset, epochs=3)\n",
    "\n",
    "preds = model.predict(tf_test_dataset)[\"logits\"]\n",
    "class_preds = np.argmax(preds, axis=1)\n",
    "metric.compute(predictions=class_preds, references=tokenized_datasets[\"test\"][\"label\"])"
   ]
  },
  {
   "cell_type": "markdown",
   "metadata": {
    "id": "PMaeernltfzA"
   },
   "source": [
    "# **Part 1 Extra**"
   ]
  },
  {
   "cell_type": "markdown",
   "metadata": {
    "id": "ULed-EtQ0q6d"
   },
   "source": [
    "## **Create my own Classification head**"
   ]
  },
  {
   "cell_type": "markdown",
   "metadata": {
    "id": "lqnntQMVt4S9"
   },
   "source": [
    "First, let's download a model without a classifier.\n",
    "\n",
    "We can see there is only one layer in the model."
   ]
  },
  {
   "cell_type": "code",
   "execution_count": null,
   "metadata": {
    "colab": {
     "base_uri": "https://localhost:8080/"
    },
    "id": "kCP3gvdWVUMN",
    "outputId": "88aacea0-5e1e-46c6-a494-876afd6b54b0"
   },
   "outputs": [
    {
     "name": "stderr",
     "output_type": "stream",
     "text": [
      "Some weights of the PyTorch model were not used when initializing the TF 2.0 model TFDistilBertModel: ['vocab_transform.bias', 'vocab_projector.bias', 'vocab_layer_norm.weight', 'vocab_layer_norm.bias', 'vocab_transform.weight']\n",
      "- This IS expected if you are initializing TFDistilBertModel from a PyTorch model trained on another task or with another architecture (e.g. initializing a TFBertForSequenceClassification model from a BertForPreTraining model).\n",
      "- This IS NOT expected if you are initializing TFDistilBertModel from a PyTorch model that you expect to be exactly identical (e.g. initializing a TFBertForSequenceClassification model from a BertForSequenceClassification model).\n",
      "All the weights of TFDistilBertModel were initialized from the PyTorch model.\n",
      "If your task is similar to the task the model of the checkpoint was trained on, you can already use TFDistilBertModel for predictions without further training.\n"
     ]
    },
    {
     "name": "stdout",
     "output_type": "stream",
     "text": [
      "Model: \"tf_distil_bert_model\"\n",
      "_________________________________________________________________\n",
      " Layer (type)                Output Shape              Param #   \n",
      "=================================================================\n",
      " distilbert (TFDistilBertMa  multiple                  66362880  \n",
      " inLayer)                                                        \n",
      "                                                                 \n",
      "=================================================================\n",
      "Total params: 66362880 (253.15 MB)\n",
      "Trainable params: 66362880 (253.15 MB)\n",
      "Non-trainable params: 0 (0.00 Byte)\n",
      "_________________________________________________________________\n"
     ]
    }
   ],
   "source": [
    "from transformers import TFAutoModel\n",
    "\n",
    "tokenizer = AutoTokenizer.from_pretrained(checkpoint)\n",
    "model = TFAutoModel.from_pretrained(checkpoint)\n",
    "model.summary()"
   ]
  },
  {
   "cell_type": "markdown",
   "metadata": {
    "id": "Hg-4kcxLuCS0"
   },
   "source": [
    "The classifier of the model in the basic part is nothing but two dense layers.\n",
    "\n",
    "Let's try to replicate it first.\n",
    "\n",
    "After that, we can try to create something different.\n",
    "\n",
    "---\n",
    "\n",
    "The shape of the output should be (None, 3), the label.\n",
    "\n",
    "However, the headless model's output shape is (None, None, 768), the hidden_state.\n",
    "\n",
    "We only intercept the first column of hidden_state and change the shape to (None, 768).\n",
    "\n",
    "Then, we can just add two dense layers same to the model with an autohead to change the output to labels (None, 3).\n",
    "\n",
    "---\n",
    "\n",
    "It's worth noting that I can't seem to input the entire tf_dataset into the model like before, keras seems to be incompatible in this issue. So I put input_ids and attention_mask separately."
   ]
  },
  {
   "cell_type": "code",
   "execution_count": null,
   "metadata": {
    "colab": {
     "base_uri": "https://localhost:8080/"
    },
    "id": "wysMUd_it8aO",
    "outputId": "240f5087-acf9-4c7b-9b38-cf6dad070e1f"
   },
   "outputs": [
    {
     "name": "stderr",
     "output_type": "stream",
     "text": [
      "Some weights of the PyTorch model were not used when initializing the TF 2.0 model TFDistilBertModel: ['vocab_transform.bias', 'vocab_projector.bias', 'vocab_layer_norm.weight', 'vocab_layer_norm.bias', 'vocab_transform.weight']\n",
      "- This IS expected if you are initializing TFDistilBertModel from a PyTorch model trained on another task or with another architecture (e.g. initializing a TFBertForSequenceClassification model from a BertForPreTraining model).\n",
      "- This IS NOT expected if you are initializing TFDistilBertModel from a PyTorch model that you expect to be exactly identical (e.g. initializing a TFBertForSequenceClassification model from a BertForSequenceClassification model).\n",
      "All the weights of TFDistilBertModel were initialized from the PyTorch model.\n",
      "If your task is similar to the task the model of the checkpoint was trained on, you can already use TFDistilBertModel for predictions without further training.\n"
     ]
    }
   ],
   "source": [
    "from tensorflow import keras\n",
    "from tensorflow.keras import layers\n",
    "\n",
    "from transformers import TFAutoModel, AutoTokenizer\n",
    "import tensorflow as tf\n",
    "\n",
    "checkpoint = \"distilbert-base-uncased\"\n",
    "tokenizer = AutoTokenizer.from_pretrained(checkpoint)\n",
    "transformer_model = TFAutoModel.from_pretrained(checkpoint)\n",
    "\n",
    "class CustomModel(tf.keras.Model):\n",
    "    def __init__(self, transformer, *args, **kwargs):\n",
    "        super().__init__(*args, **kwargs)\n",
    "        self.transformer = transformer\n",
    "\n",
    "    def call(self, inputs):\n",
    "        input_ids = inputs['input_ids']\n",
    "        attention_mask = inputs['attention_mask']\n",
    "        outputs = self.transformer(input_ids=input_ids, attention_mask=attention_mask)\n",
    "        return outputs.last_hidden_state\n",
    "\n",
    "input_ids = tf.keras.Input(shape=(None,), dtype=tf.int64, name='input_ids')\n",
    "attention_mask = tf.keras.Input(shape=(None,), dtype=tf.int64, name='attention_mask')\n",
    "\n",
    "distilbert_model = CustomModel(transformer_model)\n",
    "hidden_state=distilbert_model({'input_ids': input_ids, 'attention_mask': attention_mask})\n",
    "pooled_output = hidden_state[:, 0]\n",
    "\n",
    "logits=keras.Sequential([layers.Dense(768, activation=\"relu\"),layers.Dense(3, activation=\"relu\"),])(pooled_output)\n",
    "\n",
    "keras_model = tf.keras.Model(inputs={'input_ids': input_ids, 'attention_mask': attention_mask}, outputs=logits)"
   ]
  },
  {
   "cell_type": "markdown",
   "metadata": {
    "id": "8DPHHvDcuLE1"
   },
   "source": [
    "We can see that the parameters number of our model with our own classifier is the same as part 1 basic.\n",
    "\n",
    "That's a good start.\n",
    "\n",
    "We can also plot what the layers of the model look like."
   ]
  },
  {
   "cell_type": "code",
   "execution_count": null,
   "metadata": {
    "colab": {
     "base_uri": "https://localhost:8080/",
     "height": 836
    },
    "id": "sLEq6FSJt_bs",
    "outputId": "d2410fd8-23ff-4625-fac5-59d06150e888"
   },
   "outputs": [
    {
     "name": "stdout",
     "output_type": "stream",
     "text": [
      "Model: \"model\"\n",
      "__________________________________________________________________________________________________\n",
      " Layer (type)                Output Shape                 Param #   Connected to                  \n",
      "==================================================================================================\n",
      " attention_mask (InputLayer  [(None, None)]               0         []                            \n",
      " )                                                                                                \n",
      "                                                                                                  \n",
      " input_ids (InputLayer)      [(None, None)]               0         []                            \n",
      "                                                                                                  \n",
      " custom_model (CustomModel)  (None, None, 768)            6636288   ['attention_mask[0][0]',      \n",
      "                                                          0          'input_ids[0][0]']           \n",
      "                                                                                                  \n",
      " tf.__operators__.getitem (  (None, 768)                  0         ['custom_model[0][0]']        \n",
      " SlicingOpLambda)                                                                                 \n",
      "                                                                                                  \n",
      " sequential (Sequential)     (None, 3)                    592899    ['tf.__operators__.getitem[0][\n",
      "                                                                    0]']                          \n",
      "                                                                                                  \n",
      "==================================================================================================\n",
      "Total params: 66955779 (255.42 MB)\n",
      "Trainable params: 66955779 (255.42 MB)\n",
      "Non-trainable params: 0 (0.00 Byte)\n",
      "__________________________________________________________________________________________________\n"
     ]
    },
    {
     "data": {
      "image/png": "[encoded data removed]",
      "text/plain": [
       "<IPython.core.display.Image object>"
      ]
     },
     "execution_count": 14,
     "metadata": {},
     "output_type": "execute_result"
    }
   ],
   "source": [
    "keras_model.summary()\n",
    "import tempfile\n",
    "tempdir = tempfile.gettempdir()\n",
    "keras.utils.plot_model(keras_model, os.path.join(tempdir,\"autoencoder.png\"), show_shapes=True)"
   ]
  },
  {
   "cell_type": "markdown",
   "metadata": {
    "id": "ggVz_ysQueCt"
   },
   "source": [
    "Then, let test our model.\n",
    "\n",
    "The results are good, too."
   ]
  },
  {
   "cell_type": "code",
   "execution_count": null,
   "metadata": {
    "colab": {
     "base_uri": "https://localhost:8080/"
    },
    "id": "cu86WTfWuM6k",
    "outputId": "b0420d2e-312d-4c0e-e0fa-9d1c3d58c5f7"
   },
   "outputs": [
    {
     "name": "stdout",
     "output_type": "stream",
     "text": [
      "Epoch 1/3\n"
     ]
    },
    {
     "name": "stderr",
     "output_type": "stream",
     "text": [
      "/tmp/__autograph_generated_file2yv922m4.py:63: UserWarning: Input dict contained keys ['labels'] which did not match any model input. They will be ignored by the model.\n",
      "  ag__.converted_call(ag__.ld(warnings).warn, (ag__.converted_call('Input dict contained keys {} which did not match any model input. They will be ignored by the model.'.format, ([ag__.ld(n) for n in ag__.converted_call(ag__.ld(tensors).keys, (), None, fscope) if ag__.ld(n) not in ag__.ld(ref_input_names)],), None, fscope),), dict(stacklevel=2), fscope)\n"
     ]
    },
    {
     "name": "stdout",
     "output_type": "stream",
     "text": [
      "151/151 [==============================] - 57s 160ms/step - loss: 0.3275 - accuracy: 0.8758\n",
      "Epoch 2/3\n",
      "151/151 [==============================] - 14s 90ms/step - loss: 0.0683 - accuracy: 0.9746\n",
      "Epoch 3/3\n",
      "151/151 [==============================] - 14s 90ms/step - loss: 0.0303 - accuracy: 0.9890\n",
      "38/38 [==============================] - 6s 34ms/step\n"
     ]
    },
    {
     "data": {
      "text/plain": [
       "{'accuracy': 0.9646799116997793}"
      ]
     },
     "execution_count": 15,
     "metadata": {},
     "output_type": "execute_result"
    }
   ],
   "source": [
    "opt = Adam(learning_rate=lr_scheduler)\n",
    "loss = tf.keras.losses.SparseCategoricalCrossentropy(from_logits=True)\n",
    "keras_model.compile(optimizer=opt, loss=loss, metrics=[\"accuracy\"])\n",
    "\n",
    "keras_model.fit(tf_train_dataset, epochs=3)\n",
    "preds = keras_model.predict(tf_test_dataset)\n",
    "class_preds = np.argmax(preds, axis=1)\n",
    "\n",
    "metric.compute(predictions=class_preds, references=tokenized_datasets[\"test\"][\"label\"])"
   ]
  },
  {
   "cell_type": "markdown",
   "metadata": {
    "id": "ULCZt_uKQlnq"
   },
   "source": [
    "The classifier we create is actually more like sequential rather than functional, which is not really interesting.\n",
    "\n",
    "Let's try to bulid a more complicated classifier.\n",
    "\n",
    "Specifically, I divided the classifier into two paths, one is simple and sequential dense layers, and the other is some more complex layers."
   ]
  },
  {
   "cell_type": "code",
   "execution_count": null,
   "metadata": {
    "colab": {
     "base_uri": "https://localhost:8080/"
    },
    "id": "zmiAHCRw0Z4t",
    "outputId": "f61da308-9148-4a3b-b393-0fbe1ce3fce7"
   },
   "outputs": [
    {
     "name": "stderr",
     "output_type": "stream",
     "text": [
      "Some weights of the PyTorch model were not used when initializing the TF 2.0 model TFDistilBertModel: ['vocab_transform.bias', 'vocab_projector.bias', 'vocab_layer_norm.weight', 'vocab_layer_norm.bias', 'vocab_transform.weight']\n",
      "- This IS expected if you are initializing TFDistilBertModel from a PyTorch model trained on another task or with another architecture (e.g. initializing a TFBertForSequenceClassification model from a BertForPreTraining model).\n",
      "- This IS NOT expected if you are initializing TFDistilBertModel from a PyTorch model that you expect to be exactly identical (e.g. initializing a TFBertForSequenceClassification model from a BertForSequenceClassification model).\n",
      "All the weights of TFDistilBertModel were initialized from the PyTorch model.\n",
      "If your task is similar to the task the model of the checkpoint was trained on, you can already use TFDistilBertModel for predictions without further training.\n"
     ]
    }
   ],
   "source": [
    "from tensorflow.keras.layers import GlobalAveragePooling1D, Concatenate, Dropout, BatchNormalization\n",
    "\n",
    "transformer_model = TFAutoModel.from_pretrained(checkpoint)\n",
    "distilbert_model = CustomModel(transformer_model)\n",
    "hidden_state=distilbert_model({'input_ids': input_ids, 'attention_mask': attention_mask})\n",
    "\n",
    "GAP1D_output = GlobalAveragePooling1D()(hidden_state)\n",
    "dropout = Dropout(0.5)(GAP1D_output)\n",
    "\n",
    "batch_norm = BatchNormalization()(dropout)\n",
    "dropout_final = Dropout(0.5)(batch_norm)\n",
    "lenth3_output = layers.Dense(3, activation='relu')(dropout_final)\n",
    "\n",
    "pooled_output = hidden_state[:, 0]\n",
    "Sequential_output=keras.Sequential([layers.Dense(768, activation=\"relu\"),layers.Dense(256, activation=\"relu\"),layers.Dense(3, activation=\"relu\"),])(pooled_output)\n",
    "concatenated_inputs = Concatenate()([lenth3_output, Sequential_output])\n",
    "logits = layers.Dense(3, activation='relu')(concatenated_inputs)\n",
    "\n",
    "keras_model_2 = tf.keras.Model(inputs={'input_ids': input_ids, 'attention_mask': attention_mask}, outputs=logits)"
   ]
  },
  {
   "cell_type": "markdown",
   "metadata": {
    "id": "D2Bn-5tAQ_EM"
   },
   "source": [
    "We can show how our new classifier looks like."
   ]
  },
  {
   "cell_type": "code",
   "execution_count": null,
   "metadata": {
    "colab": {
     "base_uri": "https://localhost:8080/",
     "height": 1000
    },
    "id": "-5iOQPj23jSt",
    "outputId": "f2117a11-09a7-45e4-e6dc-a8bd43343e31"
   },
   "outputs": [
    {
     "name": "stdout",
     "output_type": "stream",
     "text": [
      "Model: \"model_1\"\n",
      "__________________________________________________________________________________________________\n",
      " Layer (type)                Output Shape                 Param #   Connected to                  \n",
      "==================================================================================================\n",
      " attention_mask (InputLayer  [(None, None)]               0         []                            \n",
      " )                                                                                                \n",
      "                                                                                                  \n",
      " input_ids (InputLayer)      [(None, None)]               0         []                            \n",
      "                                                                                                  \n",
      " custom_model_1 (CustomMode  (None, None, 768)            6636288   ['attention_mask[0][0]',      \n",
      " l)                                                       0          'input_ids[0][0]']           \n",
      "                                                                                                  \n",
      " global_average_pooling1d (  (None, 768)                  0         ['custom_model_1[0][0]']      \n",
      " GlobalAveragePooling1D)                                                                          \n",
      "                                                                                                  \n",
      " dropout_97 (Dropout)        (None, 768)                  0         ['global_average_pooling1d[0][\n",
      "                                                                    0]']                          \n",
      "                                                                                                  \n",
      " batch_normalization (Batch  (None, 768)                  3072      ['dropout_97[0][0]']          \n",
      " Normalization)                                                                                   \n",
      "                                                                                                  \n",
      " dropout_98 (Dropout)        (None, 768)                  0         ['batch_normalization[0][0]'] \n",
      "                                                                                                  \n",
      " tf.__operators__.getitem_1  (None, 768)                  0         ['custom_model_1[0][0]']      \n",
      "  (SlicingOpLambda)                                                                               \n",
      "                                                                                                  \n",
      " dense_2 (Dense)             (None, 3)                    2307      ['dropout_98[0][0]']          \n",
      "                                                                                                  \n",
      " sequential_1 (Sequential)   (None, 3)                    788227    ['tf.__operators__.getitem_1[0\n",
      "                                                                    ][0]']                        \n",
      "                                                                                                  \n",
      " concatenate (Concatenate)   (None, 6)                    0         ['dense_2[0][0]',             \n",
      "                                                                     'sequential_1[0][0]']        \n",
      "                                                                                                  \n",
      " dense_6 (Dense)             (None, 3)                    21        ['concatenate[0][0]']         \n",
      "                                                                                                  \n",
      "==================================================================================================\n",
      "Total params: 67156507 (256.18 MB)\n",
      "Trainable params: 67154971 (256.18 MB)\n",
      "Non-trainable params: 1536 (6.00 KB)\n",
      "__________________________________________________________________________________________________\n"
     ]
    },
    {
     "data": {
      "image/png": "[encoded data removed]",
      "text/plain": [
       "<IPython.core.display.Image object>"
      ]
     },
     "execution_count": 17,
     "metadata": {},
     "output_type": "execute_result"
    }
   ],
   "source": [
    "keras_model_2.summary()\n",
    "tempdir = tempfile.gettempdir()\n",
    "keras.utils.plot_model(keras_model_2, os.path.join(tempdir,\"autoencoder.png\"), show_shapes=True)"
   ]
  },
  {
   "cell_type": "markdown",
   "metadata": {
    "id": "PGaGvdZFRHE2"
   },
   "source": [
    "Again, let's test our model.\n",
    "\n",
    "The results were not significantly improved.\n",
    "\n",
    "I would guess that an accuracy of around 96% might be the limit for a model of this size.\n",
    "\n",
    "Thus, a simple classifier may be enough."
   ]
  },
  {
   "cell_type": "code",
   "execution_count": null,
   "metadata": {
    "colab": {
     "base_uri": "https://localhost:8080/"
    },
    "id": "zG1l9Idh5nuJ",
    "outputId": "3d5004c0-e596-42e2-c0f0-92c9779b023a"
   },
   "outputs": [
    {
     "name": "stdout",
     "output_type": "stream",
     "text": [
      "Epoch 1/3\n"
     ]
    },
    {
     "name": "stderr",
     "output_type": "stream",
     "text": [
      "/tmp/__autograph_generated_file2yv922m4.py:63: UserWarning: Input dict contained keys ['labels'] which did not match any model input. They will be ignored by the model.\n",
      "  ag__.converted_call(ag__.ld(warnings).warn, (ag__.converted_call('Input dict contained keys {} which did not match any model input. They will be ignored by the model.'.format, ([ag__.ld(n) for n in ag__.converted_call(ag__.ld(tensors).keys, (), None, fscope) if ag__.ld(n) not in ag__.ld(ref_input_names)],), None, fscope),), dict(stacklevel=2), fscope)\n"
     ]
    },
    {
     "name": "stdout",
     "output_type": "stream",
     "text": [
      "151/151 [==============================] - 60s 165ms/step - loss: 1.0206 - accuracy: 0.6096\n",
      "Epoch 2/3\n",
      "151/151 [==============================] - 14s 91ms/step - loss: 0.2705 - accuracy: 0.9128\n",
      "Epoch 3/3\n",
      "151/151 [==============================] - 14s 93ms/step - loss: 0.0956 - accuracy: 0.9724\n",
      "38/38 [==============================] - 7s 44ms/step\n"
     ]
    },
    {
     "data": {
      "text/plain": [
       "{'accuracy': 0.9536423841059603}"
      ]
     },
     "execution_count": 18,
     "metadata": {},
     "output_type": "execute_result"
    }
   ],
   "source": [
    "opt = Adam(learning_rate=lr_scheduler)\n",
    "loss = tf.keras.losses.SparseCategoricalCrossentropy(from_logits=True)\n",
    "keras_model_2.compile(optimizer=opt, loss=loss, metrics=[\"accuracy\"])\n",
    "\n",
    "keras_model_2.fit(tf_train_dataset, epochs=3)\n",
    "preds = keras_model_2.predict(tf_test_dataset)\n",
    "class_preds = np.argmax(preds, axis=1)\n",
    "\n",
    "metric.compute(predictions=class_preds, references=tokenized_datasets[\"test\"][\"label\"])"
   ]
  },
  {
   "cell_type": "markdown",
   "metadata": {
    "id": "ZzAgl3ouSIqj"
   },
   "source": [
    "# **Part 2 Basic**"
   ]
  },
  {
   "cell_type": "markdown",
   "metadata": {
    "id": "wIwmMS7b005l"
   },
   "source": [
    "Let's download our model with a well-trained classifier."
   ]
  },
  {
   "cell_type": "code",
   "execution_count": null,
   "metadata": {
    "colab": {
     "base_uri": "https://localhost:8080/"
    },
    "id": "-C0Juczp5iN4",
    "outputId": "eecf0486-8b6a-47e7-b309-90184dd7a6dc"
   },
   "outputs": [
    {
     "name": "stderr",
     "output_type": "stream",
     "text": [
      "Some layers from the model checkpoint at saved_model_path were not used when initializing TFDistilBertForSequenceClassification: ['dropout_19']\n",
      "- This IS expected if you are initializing TFDistilBertForSequenceClassification from the checkpoint of a model trained on another task or with another architecture (e.g. initializing a BertForSequenceClassification model from a BertForPreTraining model).\n",
      "- This IS NOT expected if you are initializing TFDistilBertForSequenceClassification from the checkpoint of a model that you expect to be exactly identical (initializing a BertForSequenceClassification model from a BertForSequenceClassification model).\n",
      "Some layers of TFDistilBertForSequenceClassification were not initialized from the model checkpoint at saved_model_path and are newly initialized: ['dropout_118']\n",
      "You should probably TRAIN this model on a down-stream task to be able to use it for predictions and inference.\n"
     ]
    },
    {
     "name": "stdout",
     "output_type": "stream",
     "text": [
      "38/38 [==============================] - 6s 33ms/step\n"
     ]
    },
    {
     "data": {
      "text/plain": [
       "{'accuracy': 0.8322295805739515}"
      ]
     },
     "execution_count": 19,
     "metadata": {},
     "output_type": "execute_result"
    }
   ],
   "source": [
    "from transformers import TFDistilBertForSequenceClassification\n",
    "model = TFDistilBertForSequenceClassification.from_pretrained('saved_model_path')\n",
    "preds = model.predict(tf_test_dataset)[\"logits\"]\n",
    "class_preds = np.argmax(preds, axis=1)\n",
    "metric = evaluate.load(\"accuracy\")\n",
    "metric.compute(predictions=class_preds, references=tokenized_datasets[\"test\"][\"label\"])"
   ]
  },
  {
   "cell_type": "markdown",
   "metadata": {
    "id": "X8Yb320G0-Qr"
   },
   "source": [
    "Let’s freeze the parameters of all layers except FFNs."
   ]
  },
  {
   "cell_type": "code",
   "execution_count": null,
   "metadata": {
    "colab": {
     "base_uri": "https://localhost:8080/"
    },
    "id": "3_qIYLK70zLk",
    "outputId": "675f0bb3-cc63-4f64-e6aa-c2b7e64fa2b6"
   },
   "outputs": [
    {
     "name": "stdout",
     "output_type": "stream",
     "text": [
      "Model: \"tf_distil_bert_for_sequence_classification_2\"\n",
      "_________________________________________________________________\n",
      " Layer (type)                Output Shape              Param #   \n",
      "=================================================================\n",
      " distilbert (TFDistilBertMa  multiple                  66362880  \n",
      " inLayer)                                                        \n",
      "                                                                 \n",
      " pre_classifier (Dense)      multiple                  590592    \n",
      "                                                                 \n",
      " classifier (Dense)          multiple                  2307      \n",
      "                                                                 \n",
      " dropout_118 (Dropout)       multiple                  0         \n",
      "                                                                 \n",
      "=================================================================\n",
      "Total params: 66955779 (255.42 MB)\n",
      "Trainable params: 28334592 (108.09 MB)\n",
      "Non-trainable params: 38621187 (147.33 MB)\n",
      "_________________________________________________________________\n"
     ]
    }
   ],
   "source": [
    "for layer in model.layers:\n",
    "  layer.trainable = True\n",
    "\n",
    "model.pre_classifier.trainable = False\n",
    "model.classifier.trainable = False\n",
    "model.distilbert.embeddings.trainable = False\n",
    "for i in range(6):\n",
    "  model.distilbert.transformer.layer[i].attention.trainable = False\n",
    "  model.distilbert.transformer.layer[i].sa_layer_norm.trainable = False\n",
    "  model.distilbert.transformer.layer[i].output_layer_norm.trainable = False\n",
    "  model.distilbert.transformer.layer[i].dropout.trainable = False\n",
    "\n",
    "model.summary()"
   ]
  },
  {
   "cell_type": "markdown",
   "metadata": {
    "id": "oJdAeldxS42S"
   },
   "source": [
    "We can define a LoraLayer class to replace 12 dense layers of 6 FFNs."
   ]
  },
  {
   "cell_type": "code",
   "execution_count": null,
   "metadata": {
    "id": "R_K2LNZj1KNp"
   },
   "outputs": [],
   "source": [
    "import math\n",
    "RANK=8\n",
    "from tensorflow import keras\n",
    "class LoraLayer(keras.layers.Layer):\n",
    "    def __init__(\n",
    "        self,\n",
    "        original_layer,\n",
    "        lenth_of_B,\n",
    "        rank=RANK,\n",
    "        alpha=32,\n",
    "        trainable=True,\n",
    "        **kwargs,\n",
    "    ):\n",
    "\n",
    "        super().__init__(trainable=trainable,**kwargs)\n",
    "        self.rank = rank\n",
    "        self.alpha = alpha\n",
    "\n",
    "        self._scale = alpha / rank\n",
    "\n",
    "        self.original_layer = original_layer\n",
    "        self.original_layer.trainable = False\n",
    "\n",
    "        self.A = keras.layers.Dense(\n",
    "            units=rank,\n",
    "            use_bias=False,\n",
    "            trainable=True,\n",
    "            name=f\"lora_A\",\n",
    "        )\n",
    "\n",
    "        self.B = keras.layers.Dense(\n",
    "            units=lenth_of_B,\n",
    "            use_bias=False,\n",
    "            trainable=True,\n",
    "            name=f\"lora_B\",\n",
    "        )\n",
    "\n",
    "\n",
    "    def call(self, inputs):\n",
    "        original_output = self.original_layer(inputs)\n",
    "        lora_output = self.B(self.A(inputs)) * self._scale\n",
    "\n",
    "        return original_output + lora_output"
   ]
  },
  {
   "cell_type": "markdown",
   "metadata": {
    "id": "w1nqDiMzTKo4"
   },
   "source": [
    "Since the shapes of lin1 and lin2 are different, we can replace them by using Loralayers with different shape.\n",
    "\n",
    "Now, all the parameters are non-trainable, and the number of parameters is the same as the model without loralayers.\n",
    "\n",
    "That's because the loralayers have not been instantiated yet. After training, the number of the parameters will increase."
   ]
  },
  {
   "cell_type": "code",
   "execution_count": null,
   "metadata": {
    "colab": {
     "base_uri": "https://localhost:8080/"
    },
    "id": "xJYgCklk1e-p",
    "outputId": "0cc28754-6cb9-42d8-c18d-de3ef383b1a4"
   },
   "outputs": [
    {
     "name": "stdout",
     "output_type": "stream",
     "text": [
      "Model: \"tf_distil_bert_for_sequence_classification_2\"\n",
      "_________________________________________________________________\n",
      " Layer (type)                Output Shape              Param #   \n",
      "=================================================================\n",
      " distilbert (TFDistilBertMa  multiple                  66362880  \n",
      " inLayer)                                                        \n",
      "                                                                 \n",
      " pre_classifier (Dense)      multiple                  590592    \n",
      "                                                                 \n",
      " classifier (Dense)          multiple                  2307      \n",
      "                                                                 \n",
      " dropout_118 (Dropout)       multiple                  0         \n",
      "                                                                 \n",
      "=================================================================\n",
      "Total params: 66955779 (255.42 MB)\n",
      "Trainable params: 0 (0.00 Byte)\n",
      "Non-trainable params: 66955779 (255.42 MB)\n",
      "_________________________________________________________________\n"
     ]
    }
   ],
   "source": [
    "for i in range(6):\n",
    "    FFN_layer = model.distilbert.transformer.layer[i].ffn\n",
    "    FFN_layer.lin1 = LoraLayer(\n",
    "        FFN_layer.lin1,\n",
    "        lenth_of_B=3072,\n",
    "        rank=RANK,\n",
    "        trainable=True,\n",
    "    )\n",
    "\n",
    "    FFN_layer.lin2 = LoraLayer(\n",
    "        FFN_layer.lin2,\n",
    "        lenth_of_B=768,\n",
    "        rank=RANK,\n",
    "        trainable=True,\n",
    "    )\n",
    "model.summary()"
   ]
  },
  {
   "cell_type": "markdown",
   "metadata": {
    "id": "L0bzrztoUX4L"
   },
   "source": [
    "Let's fine-tune our model with loralayers."
   ]
  },
  {
   "cell_type": "code",
   "execution_count": null,
   "metadata": {
    "colab": {
     "base_uri": "https://localhost:8080/"
    },
    "id": "kM5a0VpP1lDt",
    "outputId": "8f96146a-e4a4-40a0-880f-c7cc345b21f9"
   },
   "outputs": [
    {
     "name": "stdout",
     "output_type": "stream",
     "text": [
      "Epoch 1/3\n",
      "151/151 [==============================] - 36s 71ms/step - loss: 0.3504 - accuracy: 0.8498\n",
      "Epoch 2/3\n",
      "151/151 [==============================] - 10s 69ms/step - loss: 0.2376 - accuracy: 0.9078\n",
      "Epoch 3/3\n",
      "151/151 [==============================] - 11s 70ms/step - loss: 0.2031 - accuracy: 0.9227\n"
     ]
    },
    {
     "data": {
      "text/plain": [
       "<tf_keras.src.callbacks.History at 0x783ca4349e10>"
      ]
     },
     "execution_count": 23,
     "metadata": {},
     "output_type": "execute_result"
    }
   ],
   "source": [
    "opt = Adam(learning_rate=lr_scheduler)\n",
    "loss = tf.keras.losses.SparseCategoricalCrossentropy(from_logits=True)\n",
    "model.compile(optimizer=opt, loss=loss, metrics=[\"accuracy\"])\n",
    "\n",
    "model.fit(tf_train_dataset, epochs=3)"
   ]
  },
  {
   "cell_type": "markdown",
   "metadata": {
    "id": "Z4FEczM_UhFu"
   },
   "source": [
    "We can see that now the trainable parameters are the same as what we expect.\n",
    "\n",
    "The accuracy is similar to fine-tuning all the parameters, which means our loralayers worked really well."
   ]
  },
  {
   "cell_type": "code",
   "execution_count": null,
   "metadata": {
    "colab": {
     "base_uri": "https://localhost:8080/"
    },
    "id": "hD7kHZlD17yZ",
    "outputId": "4cb29f13-4210-4ada-eb9b-d6bd3d19d7a9"
   },
   "outputs": [
    {
     "name": "stdout",
     "output_type": "stream",
     "text": [
      "Model: \"tf_distil_bert_for_sequence_classification_2\"\n",
      "_________________________________________________________________\n",
      " Layer (type)                Output Shape              Param #   \n",
      "=================================================================\n",
      " distilbert (TFDistilBertMa  multiple                  66731520  \n",
      " inLayer)                                                        \n",
      "                                                                 \n",
      " pre_classifier (Dense)      multiple                  590592    \n",
      "                                                                 \n",
      " classifier (Dense)          multiple                  2307      \n",
      "                                                                 \n",
      " dropout_118 (Dropout)       multiple                  0         \n",
      "                                                                 \n",
      "=================================================================\n",
      "Total params: 67324419 (256.82 MB)\n",
      "Trainable params: 368640 (1.41 MB)\n",
      "Non-trainable params: 66955779 (255.42 MB)\n",
      "_________________________________________________________________\n",
      "38/38 [==============================] - 7s 41ms/step\n",
      "{'accuracy': 0.9293598233995585}\n"
     ]
    }
   ],
   "source": [
    "model.summary()\n",
    "preds = model.predict(tf_test_dataset)[\"logits\"]\n",
    "class_preds = np.argmax(preds, axis=1)\n",
    "metric = evaluate.load(\"accuracy\")\n",
    "accuracy=metric.compute(predictions=class_preds, references=tokenized_datasets[\"test\"][\"label\"])\n",
    "print(accuracy)"
   ]
  },
  {
   "cell_type": "markdown",
   "metadata": {
    "id": "Q_HOiQtcpVRw"
   },
   "source": [
    "## **Required questions to answer**\n",
    "\n",
    "Q: How does the performance of the model fine-tuned with LoRA compare to that of the pre-trained (not fine-tuned) model?\n",
    "\n",
    "A: Significant improvement, from about 83% to about 93%.\n",
    "\n",
    "\n",
    "---\n",
    "\n",
    "\n",
    "Q: How does the performance of the model fine-tuned with LoRA compare to that of the model fine-tuned using the conventional approach?\n",
    "\n",
    "A: The accuracy of LoRA is slightly lower than that of conventional approach.\n",
    "\n",
    "This is reasonable since we only trained less than 1% of the parameters.\n",
    "\n",
    "\n",
    "---\n",
    "\n",
    "Q: How many LoRA parameters for each FFN block?\n",
    "\n",
    "A: 2 x ( 768 x 8 + 8 x 3072 )= 61440\n",
    "\n",
    "\n",
    "---\n",
    "\n",
    "\n",
    "Q: How many LoRA parameters total ?\n",
    "\n",
    "A: 61440 x 6 = 368640\n",
    "\n",
    "\n",
    "---\n",
    "\n",
    "Q: How many trainable parameters in your model?\n",
    "\n",
    "A: 368640\n",
    "\n",
    "\n",
    "---\n",
    "\n",
    "Q: How many total parameters in your model?\n",
    "\n",
    "A: 67324419\n"
   ]
  },
  {
   "cell_type": "markdown",
   "metadata": {
    "id": "-R7629QJrlzM"
   },
   "source": [
    "**Let's show code to compute the answer.**"
   ]
  },
  {
   "cell_type": "code",
   "execution_count": null,
   "metadata": {
    "colab": {
     "base_uri": "https://localhost:8080/"
    },
    "id": "h2GlfS9qpTsm",
    "outputId": "456ef238-07f7-4749-bd80-c8bf71ee3f7e"
   },
   "outputs": [
    {
     "name": "stdout",
     "output_type": "stream",
     "text": [
      "Number of each FFN layer's parameters:  61440\n",
      "Number of total LoRA parameters:  368640\n",
      "Number of trainable parameters I expect:  368640\n"
     ]
    }
   ],
   "source": [
    "num_lora_eachffn =(model.distilbert.transformer.layer[0].ffn.lin1.A.count_params()+\n",
    "                   model.distilbert.transformer.layer[0].ffn.lin1.B.count_params()+\n",
    "                   model.distilbert.transformer.layer[0].ffn.lin2.A.count_params()+\n",
    "                   model.distilbert.transformer.layer[0].ffn.lin2.B.count_params())\n",
    "print(\"Number of each FFN layer's parameters: \",num_lora_eachffn)\n",
    "added_total=6*num_lora_eachffn\n",
    "print(\"Number of total LoRA parameters: \",added_total)\n",
    "added_parms_calc=6*2*(768*8+8*3072)\n",
    "print(\"Number of trainable parameters I expect: \",added_parms_calc)\n",
    "assert(added_total == added_parms_calc)"
   ]
  },
  {
   "cell_type": "markdown",
   "metadata": {
    "id": "slN0lPgLU7H9"
   },
   "source": [
    "# **Part 2 Extra**"
   ]
  },
  {
   "cell_type": "markdown",
   "metadata": {
    "id": "qavuzPQuRO3R"
   },
   "source": [
    "## **Change the rank number**"
   ]
  },
  {
   "cell_type": "markdown",
   "metadata": {
    "id": "vq6ABd2gVE9_"
   },
   "source": [
    "We can write a for loop to find the accuracy of the model with different lora ranks."
   ]
  },
  {
   "cell_type": "code",
   "execution_count": null,
   "metadata": {
    "colab": {
     "base_uri": "https://localhost:8080/"
    },
    "id": "J7GVKz1nnY6g",
    "outputId": "714e9004-1787-4ec9-94d2-b72276aab451"
   },
   "outputs": [
    {
     "name": "stderr",
     "output_type": "stream",
     "text": [
      "Some layers from the model checkpoint at saved_model_path were not used when initializing TFDistilBertForSequenceClassification: ['dropout_19']\n",
      "- This IS expected if you are initializing TFDistilBertForSequenceClassification from the checkpoint of a model trained on another task or with another architecture (e.g. initializing a BertForSequenceClassification model from a BertForPreTraining model).\n",
      "- This IS NOT expected if you are initializing TFDistilBertForSequenceClassification from the checkpoint of a model that you expect to be exactly identical (initializing a BertForSequenceClassification model from a BertForSequenceClassification model).\n",
      "Some layers of TFDistilBertForSequenceClassification were not initialized from the model checkpoint at saved_model_path and are newly initialized: ['dropout_498']\n",
      "You should probably TRAIN this model on a down-stream task to be able to use it for predictions and inference.\n"
     ]
    },
    {
     "name": "stdout",
     "output_type": "stream",
     "text": [
      "rank= 2 :\n",
      "Epoch 1/3\n",
      "151/151 [==============================] - 50s 69ms/step - loss: 0.6152 - accuracy: 0.7432\n",
      "Epoch 2/3\n",
      "151/151 [==============================] - 10s 65ms/step - loss: 0.4483 - accuracy: 0.8084\n",
      "Epoch 3/3\n",
      "151/151 [==============================] - 10s 69ms/step - loss: 0.4123 - accuracy: 0.8277\n",
      "38/38 [==============================] - 8s 39ms/step\n",
      "Model: \"tf_distil_bert_for_sequence_classification_21\"\n",
      "_________________________________________________________________\n",
      " Layer (type)                Output Shape              Param #   \n",
      "=================================================================\n",
      " distilbert (TFDistilBertMa  multiple                  66455040  \n",
      " inLayer)                                                        \n",
      "                                                                 \n",
      " pre_classifier (Dense)      multiple                  590592    \n",
      "                                                                 \n",
      " classifier (Dense)          multiple                  2307      \n",
      "                                                                 \n",
      " dropout_498 (Dropout)       multiple                  0         \n",
      "                                                                 \n",
      "=================================================================\n",
      "Total params: 67047939 (255.77 MB)\n",
      "Trainable params: 92160 (360.00 KB)\n",
      "Non-trainable params: 66955779 (255.42 MB)\n",
      "_________________________________________________________________\n",
      "None\n",
      "rank= 2\n",
      "{'accuracy': 0.8322295805739515}\n"
     ]
    },
    {
     "name": "stderr",
     "output_type": "stream",
     "text": [
      "Some layers from the model checkpoint at saved_model_path were not used when initializing TFDistilBertForSequenceClassification: ['dropout_19']\n",
      "- This IS expected if you are initializing TFDistilBertForSequenceClassification from the checkpoint of a model trained on another task or with another architecture (e.g. initializing a BertForSequenceClassification model from a BertForPreTraining model).\n",
      "- This IS NOT expected if you are initializing TFDistilBertForSequenceClassification from the checkpoint of a model that you expect to be exactly identical (initializing a BertForSequenceClassification model from a BertForSequenceClassification model).\n",
      "Some layers of TFDistilBertForSequenceClassification were not initialized from the model checkpoint at saved_model_path and are newly initialized: ['dropout_518']\n",
      "You should probably TRAIN this model on a down-stream task to be able to use it for predictions and inference.\n"
     ]
    },
    {
     "name": "stdout",
     "output_type": "stream",
     "text": [
      "rank= 4 :\n",
      "Epoch 1/3\n",
      "151/151 [==============================] - 34s 70ms/step - loss: 0.4592 - accuracy: 0.8062\n",
      "Epoch 2/3\n",
      "151/151 [==============================] - 10s 67ms/step - loss: 0.3260 - accuracy: 0.8686\n",
      "Epoch 3/3\n",
      "151/151 [==============================] - 10s 69ms/step - loss: 0.2624 - accuracy: 0.8962\n",
      "38/38 [==============================] - 8s 41ms/step\n",
      "Model: \"tf_distil_bert_for_sequence_classification_22\"\n",
      "_________________________________________________________________\n",
      " Layer (type)                Output Shape              Param #   \n",
      "=================================================================\n",
      " distilbert (TFDistilBertMa  multiple                  66547200  \n",
      " inLayer)                                                        \n",
      "                                                                 \n",
      " pre_classifier (Dense)      multiple                  590592    \n",
      "                                                                 \n",
      " classifier (Dense)          multiple                  2307      \n",
      "                                                                 \n",
      " dropout_518 (Dropout)       multiple                  0         \n",
      "                                                                 \n",
      "=================================================================\n",
      "Total params: 67140099 (256.12 MB)\n",
      "Trainable params: 184320 (720.00 KB)\n",
      "Non-trainable params: 66955779 (255.42 MB)\n",
      "_________________________________________________________________\n",
      "None\n",
      "rank= 4\n",
      "{'accuracy': 0.8719646799116998}\n"
     ]
    },
    {
     "name": "stderr",
     "output_type": "stream",
     "text": [
      "Some layers from the model checkpoint at saved_model_path were not used when initializing TFDistilBertForSequenceClassification: ['dropout_19']\n",
      "- This IS expected if you are initializing TFDistilBertForSequenceClassification from the checkpoint of a model trained on another task or with another architecture (e.g. initializing a BertForSequenceClassification model from a BertForPreTraining model).\n",
      "- This IS NOT expected if you are initializing TFDistilBertForSequenceClassification from the checkpoint of a model that you expect to be exactly identical (initializing a BertForSequenceClassification model from a BertForSequenceClassification model).\n",
      "Some layers of TFDistilBertForSequenceClassification were not initialized from the model checkpoint at saved_model_path and are newly initialized: ['dropout_538']\n",
      "You should probably TRAIN this model on a down-stream task to be able to use it for predictions and inference.\n"
     ]
    },
    {
     "name": "stdout",
     "output_type": "stream",
     "text": [
      "rank= 6 :\n",
      "Epoch 1/3\n",
      "151/151 [==============================] - 37s 70ms/step - loss: 0.3983 - accuracy: 0.8388\n",
      "Epoch 2/3\n",
      "151/151 [==============================] - 11s 70ms/step - loss: 0.2669 - accuracy: 0.8962\n",
      "Epoch 3/3\n",
      "151/151 [==============================] - 11s 70ms/step - loss: 0.2226 - accuracy: 0.9150\n",
      "38/38 [==============================] - 7s 40ms/step\n",
      "Model: \"tf_distil_bert_for_sequence_classification_23\"\n",
      "_________________________________________________________________\n",
      " Layer (type)                Output Shape              Param #   \n",
      "=================================================================\n",
      " distilbert (TFDistilBertMa  multiple                  66639360  \n",
      " inLayer)                                                        \n",
      "                                                                 \n",
      " pre_classifier (Dense)      multiple                  590592    \n",
      "                                                                 \n",
      " classifier (Dense)          multiple                  2307      \n",
      "                                                                 \n",
      " dropout_538 (Dropout)       multiple                  0         \n",
      "                                                                 \n",
      "=================================================================\n",
      "Total params: 67232259 (256.47 MB)\n",
      "Trainable params: 276480 (1.05 MB)\n",
      "Non-trainable params: 66955779 (255.42 MB)\n",
      "_________________________________________________________________\n",
      "None\n",
      "rank= 6\n",
      "{'accuracy': 0.9050772626931567}\n"
     ]
    },
    {
     "name": "stderr",
     "output_type": "stream",
     "text": [
      "Some layers from the model checkpoint at saved_model_path were not used when initializing TFDistilBertForSequenceClassification: ['dropout_19']\n",
      "- This IS expected if you are initializing TFDistilBertForSequenceClassification from the checkpoint of a model trained on another task or with another architecture (e.g. initializing a BertForSequenceClassification model from a BertForPreTraining model).\n",
      "- This IS NOT expected if you are initializing TFDistilBertForSequenceClassification from the checkpoint of a model that you expect to be exactly identical (initializing a BertForSequenceClassification model from a BertForSequenceClassification model).\n",
      "Some layers of TFDistilBertForSequenceClassification were not initialized from the model checkpoint at saved_model_path and are newly initialized: ['dropout_558']\n",
      "You should probably TRAIN this model on a down-stream task to be able to use it for predictions and inference.\n"
     ]
    },
    {
     "name": "stdout",
     "output_type": "stream",
     "text": [
      "rank= 8 :\n",
      "Epoch 1/3\n",
      "151/151 [==============================] - 34s 70ms/step - loss: 0.3444 - accuracy: 0.8559\n",
      "Epoch 2/3\n",
      "151/151 [==============================] - 10s 69ms/step - loss: 0.2287 - accuracy: 0.9061\n",
      "Epoch 3/3\n",
      "151/151 [==============================] - 11s 70ms/step - loss: 0.1796 - accuracy: 0.9277\n",
      "38/38 [==============================] - 7s 39ms/step\n",
      "Model: \"tf_distil_bert_for_sequence_classification_24\"\n",
      "_________________________________________________________________\n",
      " Layer (type)                Output Shape              Param #   \n",
      "=================================================================\n",
      " distilbert (TFDistilBertMa  multiple                  66731520  \n",
      " inLayer)                                                        \n",
      "                                                                 \n",
      " pre_classifier (Dense)      multiple                  590592    \n",
      "                                                                 \n",
      " classifier (Dense)          multiple                  2307      \n",
      "                                                                 \n",
      " dropout_558 (Dropout)       multiple                  0         \n",
      "                                                                 \n",
      "=================================================================\n",
      "Total params: 67324419 (256.82 MB)\n",
      "Trainable params: 368640 (1.41 MB)\n",
      "Non-trainable params: 66955779 (255.42 MB)\n",
      "_________________________________________________________________\n",
      "None\n",
      "rank= 8\n",
      "{'accuracy': 0.9139072847682119}\n"
     ]
    },
    {
     "name": "stderr",
     "output_type": "stream",
     "text": [
      "Some layers from the model checkpoint at saved_model_path were not used when initializing TFDistilBertForSequenceClassification: ['dropout_19']\n",
      "- This IS expected if you are initializing TFDistilBertForSequenceClassification from the checkpoint of a model trained on another task or with another architecture (e.g. initializing a BertForSequenceClassification model from a BertForPreTraining model).\n",
      "- This IS NOT expected if you are initializing TFDistilBertForSequenceClassification from the checkpoint of a model that you expect to be exactly identical (initializing a BertForSequenceClassification model from a BertForSequenceClassification model).\n",
      "Some layers of TFDistilBertForSequenceClassification were not initialized from the model checkpoint at saved_model_path and are newly initialized: ['dropout_578']\n",
      "You should probably TRAIN this model on a down-stream task to be able to use it for predictions and inference.\n"
     ]
    },
    {
     "name": "stdout",
     "output_type": "stream",
     "text": [
      "rank= 10 :\n",
      "Epoch 1/3\n",
      "151/151 [==============================] - 34s 70ms/step - loss: 0.3113 - accuracy: 0.8592\n",
      "Epoch 2/3\n",
      "151/151 [==============================] - 11s 71ms/step - loss: 0.2032 - accuracy: 0.9227\n",
      "Epoch 3/3\n",
      "151/151 [==============================] - 11s 71ms/step - loss: 0.1679 - accuracy: 0.9343\n",
      "38/38 [==============================] - 8s 45ms/step\n",
      "Model: \"tf_distil_bert_for_sequence_classification_25\"\n",
      "_________________________________________________________________\n",
      " Layer (type)                Output Shape              Param #   \n",
      "=================================================================\n",
      " distilbert (TFDistilBertMa  multiple                  66823680  \n",
      " inLayer)                                                        \n",
      "                                                                 \n",
      " pre_classifier (Dense)      multiple                  590592    \n",
      "                                                                 \n",
      " classifier (Dense)          multiple                  2307      \n",
      "                                                                 \n",
      " dropout_578 (Dropout)       multiple                  0         \n",
      "                                                                 \n",
      "=================================================================\n",
      "Total params: 67416579 (257.17 MB)\n",
      "Trainable params: 460800 (1.76 MB)\n",
      "Non-trainable params: 66955779 (255.42 MB)\n",
      "_________________________________________________________________\n",
      "None\n",
      "rank= 10\n",
      "{'accuracy': 0.9249448123620309}\n"
     ]
    },
    {
     "name": "stderr",
     "output_type": "stream",
     "text": [
      "Some layers from the model checkpoint at saved_model_path were not used when initializing TFDistilBertForSequenceClassification: ['dropout_19']\n",
      "- This IS expected if you are initializing TFDistilBertForSequenceClassification from the checkpoint of a model trained on another task or with another architecture (e.g. initializing a BertForSequenceClassification model from a BertForPreTraining model).\n",
      "- This IS NOT expected if you are initializing TFDistilBertForSequenceClassification from the checkpoint of a model that you expect to be exactly identical (initializing a BertForSequenceClassification model from a BertForSequenceClassification model).\n",
      "Some layers of TFDistilBertForSequenceClassification were not initialized from the model checkpoint at saved_model_path and are newly initialized: ['dropout_598']\n",
      "You should probably TRAIN this model on a down-stream task to be able to use it for predictions and inference.\n"
     ]
    },
    {
     "name": "stdout",
     "output_type": "stream",
     "text": [
      "rank= 12 :\n",
      "Epoch 1/3\n",
      "151/151 [==============================] - 35s 70ms/step - loss: 0.3134 - accuracy: 0.8763\n",
      "Epoch 2/3\n",
      "151/151 [==============================] - 10s 68ms/step - loss: 0.1942 - accuracy: 0.9227\n",
      "Epoch 3/3\n",
      "151/151 [==============================] - 10s 69ms/step - loss: 0.1551 - accuracy: 0.9426\n",
      "38/38 [==============================] - 8s 40ms/step\n",
      "Model: \"tf_distil_bert_for_sequence_classification_26\"\n",
      "_________________________________________________________________\n",
      " Layer (type)                Output Shape              Param #   \n",
      "=================================================================\n",
      " distilbert (TFDistilBertMa  multiple                  66915840  \n",
      " inLayer)                                                        \n",
      "                                                                 \n",
      " pre_classifier (Dense)      multiple                  590592    \n",
      "                                                                 \n",
      " classifier (Dense)          multiple                  2307      \n",
      "                                                                 \n",
      " dropout_598 (Dropout)       multiple                  0         \n",
      "                                                                 \n",
      "=================================================================\n",
      "Total params: 67508739 (257.53 MB)\n",
      "Trainable params: 552960 (2.11 MB)\n",
      "Non-trainable params: 66955779 (255.42 MB)\n",
      "_________________________________________________________________\n",
      "None\n",
      "rank= 12\n",
      "{'accuracy': 0.9293598233995585}\n"
     ]
    },
    {
     "name": "stderr",
     "output_type": "stream",
     "text": [
      "Some layers from the model checkpoint at saved_model_path were not used when initializing TFDistilBertForSequenceClassification: ['dropout_19']\n",
      "- This IS expected if you are initializing TFDistilBertForSequenceClassification from the checkpoint of a model trained on another task or with another architecture (e.g. initializing a BertForSequenceClassification model from a BertForPreTraining model).\n",
      "- This IS NOT expected if you are initializing TFDistilBertForSequenceClassification from the checkpoint of a model that you expect to be exactly identical (initializing a BertForSequenceClassification model from a BertForSequenceClassification model).\n",
      "Some layers of TFDistilBertForSequenceClassification were not initialized from the model checkpoint at saved_model_path and are newly initialized: ['dropout_618']\n",
      "You should probably TRAIN this model on a down-stream task to be able to use it for predictions and inference.\n"
     ]
    },
    {
     "name": "stdout",
     "output_type": "stream",
     "text": [
      "rank= 16 :\n",
      "Epoch 1/3\n",
      "151/151 [==============================] - 34s 71ms/step - loss: 0.2754 - accuracy: 0.8846\n",
      "Epoch 2/3\n",
      "151/151 [==============================] - 11s 70ms/step - loss: 0.1680 - accuracy: 0.9348\n",
      "Epoch 3/3\n",
      "151/151 [==============================] - 10s 69ms/step - loss: 0.1391 - accuracy: 0.9459\n",
      "38/38 [==============================] - 7s 40ms/step\n",
      "Model: \"tf_distil_bert_for_sequence_classification_27\"\n",
      "_________________________________________________________________\n",
      " Layer (type)                Output Shape              Param #   \n",
      "=================================================================\n",
      " distilbert (TFDistilBertMa  multiple                  67100160  \n",
      " inLayer)                                                        \n",
      "                                                                 \n",
      " pre_classifier (Dense)      multiple                  590592    \n",
      "                                                                 \n",
      " classifier (Dense)          multiple                  2307      \n",
      "                                                                 \n",
      " dropout_618 (Dropout)       multiple                  0         \n",
      "                                                                 \n",
      "=================================================================\n",
      "Total params: 67693059 (258.23 MB)\n",
      "Trainable params: 737280 (2.81 MB)\n",
      "Non-trainable params: 66955779 (255.42 MB)\n",
      "_________________________________________________________________\n",
      "None\n",
      "rank= 16\n",
      "{'accuracy': 0.9337748344370861}\n"
     ]
    },
    {
     "name": "stderr",
     "output_type": "stream",
     "text": [
      "Some layers from the model checkpoint at saved_model_path were not used when initializing TFDistilBertForSequenceClassification: ['dropout_19']\n",
      "- This IS expected if you are initializing TFDistilBertForSequenceClassification from the checkpoint of a model trained on another task or with another architecture (e.g. initializing a BertForSequenceClassification model from a BertForPreTraining model).\n",
      "- This IS NOT expected if you are initializing TFDistilBertForSequenceClassification from the checkpoint of a model that you expect to be exactly identical (initializing a BertForSequenceClassification model from a BertForSequenceClassification model).\n",
      "Some layers of TFDistilBertForSequenceClassification were not initialized from the model checkpoint at saved_model_path and are newly initialized: ['dropout_638']\n",
      "You should probably TRAIN this model on a down-stream task to be able to use it for predictions and inference.\n"
     ]
    },
    {
     "name": "stdout",
     "output_type": "stream",
     "text": [
      "rank= 20 :\n",
      "Epoch 1/3\n",
      "151/151 [==============================] - 34s 70ms/step - loss: 0.2764 - accuracy: 0.8851\n",
      "Epoch 2/3\n",
      "151/151 [==============================] - 11s 71ms/step - loss: 0.1723 - accuracy: 0.9371\n",
      "Epoch 3/3\n",
      "151/151 [==============================] - 11s 71ms/step - loss: 0.1458 - accuracy: 0.9464\n",
      "38/38 [==============================] - 8s 39ms/step\n",
      "Model: \"tf_distil_bert_for_sequence_classification_28\"\n",
      "_________________________________________________________________\n",
      " Layer (type)                Output Shape              Param #   \n",
      "=================================================================\n",
      " distilbert (TFDistilBertMa  multiple                  67284480  \n",
      " inLayer)                                                        \n",
      "                                                                 \n",
      " pre_classifier (Dense)      multiple                  590592    \n",
      "                                                                 \n",
      " classifier (Dense)          multiple                  2307      \n",
      "                                                                 \n",
      " dropout_638 (Dropout)       multiple                  0         \n",
      "                                                                 \n",
      "=================================================================\n",
      "Total params: 67877379 (258.93 MB)\n",
      "Trainable params: 921600 (3.52 MB)\n",
      "Non-trainable params: 66955779 (255.42 MB)\n",
      "_________________________________________________________________\n",
      "None\n",
      "rank= 20\n",
      "{'accuracy': 0.9315673289183223}\n"
     ]
    },
    {
     "name": "stderr",
     "output_type": "stream",
     "text": [
      "Some layers from the model checkpoint at saved_model_path were not used when initializing TFDistilBertForSequenceClassification: ['dropout_19']\n",
      "- This IS expected if you are initializing TFDistilBertForSequenceClassification from the checkpoint of a model trained on another task or with another architecture (e.g. initializing a BertForSequenceClassification model from a BertForPreTraining model).\n",
      "- This IS NOT expected if you are initializing TFDistilBertForSequenceClassification from the checkpoint of a model that you expect to be exactly identical (initializing a BertForSequenceClassification model from a BertForSequenceClassification model).\n",
      "Some layers of TFDistilBertForSequenceClassification were not initialized from the model checkpoint at saved_model_path and are newly initialized: ['dropout_658']\n",
      "You should probably TRAIN this model on a down-stream task to be able to use it for predictions and inference.\n"
     ]
    },
    {
     "name": "stdout",
     "output_type": "stream",
     "text": [
      "rank= 24 :\n",
      "Epoch 1/3\n",
      "151/151 [==============================] - 56s 70ms/step - loss: 0.2636 - accuracy: 0.8956\n",
      "Epoch 2/3\n",
      "151/151 [==============================] - 11s 70ms/step - loss: 0.1751 - accuracy: 0.9299\n",
      "Epoch 3/3\n",
      "151/151 [==============================] - 11s 70ms/step - loss: 0.1402 - accuracy: 0.9459\n",
      "38/38 [==============================] - 8s 58ms/step\n",
      "Model: \"tf_distil_bert_for_sequence_classification_29\"\n",
      "_________________________________________________________________\n",
      " Layer (type)                Output Shape              Param #   \n",
      "=================================================================\n",
      " distilbert (TFDistilBertMa  multiple                  67468800  \n",
      " inLayer)                                                        \n",
      "                                                                 \n",
      " pre_classifier (Dense)      multiple                  590592    \n",
      "                                                                 \n",
      " classifier (Dense)          multiple                  2307      \n",
      "                                                                 \n",
      " dropout_658 (Dropout)       multiple                  0         \n",
      "                                                                 \n",
      "=================================================================\n",
      "Total params: 68061699 (259.63 MB)\n",
      "Trainable params: 1105920 (4.22 MB)\n",
      "Non-trainable params: 66955779 (255.42 MB)\n",
      "_________________________________________________________________\n",
      "None\n",
      "rank= 24\n",
      "{'accuracy': 0.9337748344370861}\n"
     ]
    },
    {
     "name": "stderr",
     "output_type": "stream",
     "text": [
      "Some layers from the model checkpoint at saved_model_path were not used when initializing TFDistilBertForSequenceClassification: ['dropout_19']\n",
      "- This IS expected if you are initializing TFDistilBertForSequenceClassification from the checkpoint of a model trained on another task or with another architecture (e.g. initializing a BertForSequenceClassification model from a BertForPreTraining model).\n",
      "- This IS NOT expected if you are initializing TFDistilBertForSequenceClassification from the checkpoint of a model that you expect to be exactly identical (initializing a BertForSequenceClassification model from a BertForSequenceClassification model).\n",
      "Some layers of TFDistilBertForSequenceClassification were not initialized from the model checkpoint at saved_model_path and are newly initialized: ['dropout_678']\n",
      "You should probably TRAIN this model on a down-stream task to be able to use it for predictions and inference.\n"
     ]
    },
    {
     "name": "stdout",
     "output_type": "stream",
     "text": [
      "rank= 32 :\n",
      "Epoch 1/3\n",
      "151/151 [==============================] - 34s 67ms/step - loss: 0.2704 - accuracy: 0.8868\n",
      "Epoch 2/3\n",
      "151/151 [==============================] - 10s 67ms/step - loss: 0.1820 - accuracy: 0.9266\n",
      "Epoch 3/3\n",
      "151/151 [==============================] - 11s 70ms/step - loss: 0.1377 - accuracy: 0.9509\n",
      "38/38 [==============================] - 8s 53ms/step\n",
      "Model: \"tf_distil_bert_for_sequence_classification_30\"\n",
      "_________________________________________________________________\n",
      " Layer (type)                Output Shape              Param #   \n",
      "=================================================================\n",
      " distilbert (TFDistilBertMa  multiple                  67837440  \n",
      " inLayer)                                                        \n",
      "                                                                 \n",
      " pre_classifier (Dense)      multiple                  590592    \n",
      "                                                                 \n",
      " classifier (Dense)          multiple                  2307      \n",
      "                                                                 \n",
      " dropout_678 (Dropout)       multiple                  0         \n",
      "                                                                 \n",
      "=================================================================\n",
      "Total params: 68430339 (261.04 MB)\n",
      "Trainable params: 1474560 (5.62 MB)\n",
      "Non-trainable params: 66955779 (255.42 MB)\n",
      "_________________________________________________________________\n",
      "None\n",
      "rank= 32\n",
      "{'accuracy': 0.9315673289183223}\n"
     ]
    }
   ],
   "source": [
    "Accuracies=[]\n",
    "Ranks=[2, 4, 6, 8, 10, 12, 16, 20, 24, 32]\n",
    "for r in Ranks:\n",
    "  model = TFDistilBertForSequenceClassification.from_pretrained('saved_model_path')\n",
    "  RANK=r\n",
    "  print(\"rank=\",RANK,\":\")\n",
    "\n",
    "  model.pre_classifier.trainable = False\n",
    "  model.classifier.trainable = False\n",
    "  model.distilbert.embeddings.trainable = False\n",
    "  for i in range(6):\n",
    "    model.distilbert.transformer.layer[i].attention.trainable = False\n",
    "    model.distilbert.transformer.layer[i].sa_layer_norm.trainable = False\n",
    "    model.distilbert.transformer.layer[i].output_layer_norm.trainable = False\n",
    "    model.distilbert.transformer.layer[i].dropout.trainable = False\n",
    "\n",
    "  for i in range(6):\n",
    "    FFN_layer = model.distilbert.transformer.layer[i].ffn\n",
    "    FFN_layer.lin1 = LoraLayer(\n",
    "        FFN_layer.lin1,\n",
    "        lenth_of_B=3072,\n",
    "        rank=RANK,\n",
    "        trainable=True,\n",
    "    )\n",
    "\n",
    "    FFN_layer.lin2 = LoraLayer(\n",
    "        FFN_layer.lin2,\n",
    "        lenth_of_B=768,\n",
    "        rank=RANK,\n",
    "        trainable=True,\n",
    "    )\n",
    "  opt = Adam(learning_rate=lr_scheduler)\n",
    "  loss = tf.keras.losses.SparseCategoricalCrossentropy(from_logits=True)\n",
    "  model.compile(optimizer=opt, loss=loss, metrics=[\"accuracy\"])\n",
    "  model.fit(tf_train_dataset, epochs=3)\n",
    "  preds = model.predict(tf_test_dataset)[\"logits\"]\n",
    "  class_preds = np.argmax(preds, axis=1)\n",
    "  metric = evaluate.load(\"accuracy\")\n",
    "  accuracy=metric.compute(predictions=class_preds, references=tokenized_datasets[\"test\"][\"label\"])\n",
    "  Accuracies.append(accuracy['accuracy'])\n",
    "  print(model.summary())\n",
    "  print(\"rank=\",model.distilbert.transformer.layer[0].ffn.lin1.rank)\n",
    "  print(accuracy)\n"
   ]
  },
  {
   "cell_type": "markdown",
   "metadata": {
    "id": "Hb7hj-SdVXLP"
   },
   "source": [
    "Now, we can drow a picture to see the relationship between the rank and the accuracy.\n",
    "\n",
    "As shown in the figure, r=8 (or maybe 10?) is indeed a good choice. Before r=8, the accuracy increases significantly; after r=8, the accuracy only increases slowly or even decreases."
   ]
  },
  {
   "cell_type": "code",
   "execution_count": null,
   "metadata": {
    "colab": {
     "base_uri": "https://localhost:8080/",
     "height": 487
    },
    "id": "mlEiX3g5Vj94",
    "outputId": "89a86c5f-1406-4e82-9eef-56fa8588429f"
   },
   "outputs": [
    {
     "data": {
      "image/png": "[encoded data removed]",
      "text/plain": [
       "<Figure size 1000x500 with 1 Axes>"
      ]
     },
     "metadata": {},
     "output_type": "display_data"
    }
   ],
   "source": [
    "import matplotlib.pyplot as plt\n",
    "\n",
    "plt.figure(figsize=(10, 5))\n",
    "plt.plot(Ranks, Accuracies, marker='o')\n",
    "plt.title('Ranks vs Accuracies')\n",
    "plt.xlabel('Ranks')\n",
    "plt.ylabel('Accuracies')\n",
    "plt.show()"
   ]
  }
 ],
 "metadata": {
  "accelerator": "GPU",
  "colab": {
   "gpuType": "T4",
   "provenance": [],
   "toc_visible": true
  },
  "kernelspec": {
   "display_name": "Python 3 (ipykernel)",
   "language": "python",
   "name": "python3"
  },
  "language_info": {
   "codemirror_mode": {
    "name": "ipython",
    "version": 3
   },
   "file_extension": ".py",
   "mimetype": "text/x-python",
   "name": "python",
   "nbconvert_exporter": "python",
   "pygments_lexer": "ipython3",
   "version": "3.11.4"
  },
  "widgets": {
   "application/vnd.jupyter.widget-state+json": {
    "0659eb12dd6d446389f45bef7f47a8f9": {
     "model_module": "@jupyter-widgets/controls",
     "model_module_version": "1.5.0",
     "model_name": "HTMLModel",
     "state": {
      "_dom_classes": [],
      "_model_module": "@jupyter-widgets/controls",
      "_model_module_version": "1.5.0",
      "_model_name": "HTMLModel",
      "_view_count": null,
      "_view_module": "@jupyter-widgets/controls",
      "_view_module_version": "1.5.0",
      "_view_name": "HTMLView",
      "description": "",
      "description_tooltip": null,
      "layout": "IPY_MODEL_60bccfa6ede04678ae4fdef83f49b365",
      "placeholder": "​",
      "style": "IPY_MODEL_f3826d14abc944af81b0d04dbe4385b1",
      "value": "Map: 100%"
     }
    },
    "0c97276e30d8499c863ba442925ad942": {
     "model_module": "@jupyter-widgets/controls",
     "model_module_version": "1.5.0",
     "model_name": "HTMLModel",
     "state": {
      "_dom_classes": [],
      "_model_module": "@jupyter-widgets/controls",
      "_model_module_version": "1.5.0",
      "_model_name": "HTMLModel",
      "_view_count": null,
      "_view_module": "@jupyter-widgets/controls",
      "_view_module_version": "1.5.0",
      "_view_name": "HTMLView",
      "description": "",
      "description_tooltip": null,
      "layout": "IPY_MODEL_0cff225771c14201a80bbf47c5172170",
      "placeholder": "​",
      "style": "IPY_MODEL_dd5bc4ec16a743a9b6bf22fa47a9abae",
      "value": " 453/453 [00:00&lt;00:00, 3970.38 examples/s]"
     }
    },
    "0cff225771c14201a80bbf47c5172170": {
     "model_module": "@jupyter-widgets/base",
     "model_module_version": "1.2.0",
     "model_name": "LayoutModel",
     "state": {
      "_model_module": "@jupyter-widgets/base",
      "_model_module_version": "1.2.0",
      "_model_name": "LayoutModel",
      "_view_count": null,
      "_view_module": "@jupyter-widgets/base",
      "_view_module_version": "1.2.0",
      "_view_name": "LayoutView",
      "align_content": null,
      "align_items": null,
      "align_self": null,
      "border": null,
      "bottom": null,
      "display": null,
      "flex": null,
      "flex_flow": null,
      "grid_area": null,
      "grid_auto_columns": null,
      "grid_auto_flow": null,
      "grid_auto_rows": null,
      "grid_column": null,
      "grid_gap": null,
      "grid_row": null,
      "grid_template_areas": null,
      "grid_template_columns": null,
      "grid_template_rows": null,
      "height": null,
      "justify_content": null,
      "justify_items": null,
      "left": null,
      "margin": null,
      "max_height": null,
      "max_width": null,
      "min_height": null,
      "min_width": null,
      "object_fit": null,
      "object_position": null,
      "order": null,
      "overflow": null,
      "overflow_x": null,
      "overflow_y": null,
      "padding": null,
      "right": null,
      "top": null,
      "visibility": null,
      "width": null
     }
    },
    "31c72e4ac6f342b09127d97c3117f089": {
     "model_module": "@jupyter-widgets/controls",
     "model_module_version": "1.5.0",
     "model_name": "DescriptionStyleModel",
     "state": {
      "_model_module": "@jupyter-widgets/controls",
      "_model_module_version": "1.5.0",
      "_model_name": "DescriptionStyleModel",
      "_view_count": null,
      "_view_module": "@jupyter-widgets/base",
      "_view_module_version": "1.2.0",
      "_view_name": "StyleView",
      "description_width": ""
     }
    },
    "3647323f6c324b91a08cb5d6bb375b91": {
     "model_module": "@jupyter-widgets/base",
     "model_module_version": "1.2.0",
     "model_name": "LayoutModel",
     "state": {
      "_model_module": "@jupyter-widgets/base",
      "_model_module_version": "1.2.0",
      "_model_name": "LayoutModel",
      "_view_count": null,
      "_view_module": "@jupyter-widgets/base",
      "_view_module_version": "1.2.0",
      "_view_name": "LayoutView",
      "align_content": null,
      "align_items": null,
      "align_self": null,
      "border": null,
      "bottom": null,
      "display": null,
      "flex": null,
      "flex_flow": null,
      "grid_area": null,
      "grid_auto_columns": null,
      "grid_auto_flow": null,
      "grid_auto_rows": null,
      "grid_column": null,
      "grid_gap": null,
      "grid_row": null,
      "grid_template_areas": null,
      "grid_template_columns": null,
      "grid_template_rows": null,
      "height": null,
      "justify_content": null,
      "justify_items": null,
      "left": null,
      "margin": null,
      "max_height": null,
      "max_width": null,
      "min_height": null,
      "min_width": null,
      "object_fit": null,
      "object_position": null,
      "order": null,
      "overflow": null,
      "overflow_x": null,
      "overflow_y": null,
      "padding": null,
      "right": null,
      "top": null,
      "visibility": null,
      "width": null
     }
    },
    "5162f6d0f0d84a55856deaf50d3f9c0e": {
     "model_module": "@jupyter-widgets/controls",
     "model_module_version": "1.5.0",
     "model_name": "FloatProgressModel",
     "state": {
      "_dom_classes": [],
      "_model_module": "@jupyter-widgets/controls",
      "_model_module_version": "1.5.0",
      "_model_name": "FloatProgressModel",
      "_view_count": null,
      "_view_module": "@jupyter-widgets/controls",
      "_view_module_version": "1.5.0",
      "_view_name": "ProgressView",
      "bar_style": "success",
      "description": "",
      "description_tooltip": null,
      "layout": "IPY_MODEL_3647323f6c324b91a08cb5d6bb375b91",
      "max": 453,
      "min": 0,
      "orientation": "horizontal",
      "style": "IPY_MODEL_b5e901371de34758a4626c699a7667bc",
      "value": 453
     }
    },
    "56d7ef83f0734f9781bcaeea7ff0fd63": {
     "model_module": "@jupyter-widgets/base",
     "model_module_version": "1.2.0",
     "model_name": "LayoutModel",
     "state": {
      "_model_module": "@jupyter-widgets/base",
      "_model_module_version": "1.2.0",
      "_model_name": "LayoutModel",
      "_view_count": null,
      "_view_module": "@jupyter-widgets/base",
      "_view_module_version": "1.2.0",
      "_view_name": "LayoutView",
      "align_content": null,
      "align_items": null,
      "align_self": null,
      "border": null,
      "bottom": null,
      "display": null,
      "flex": null,
      "flex_flow": null,
      "grid_area": null,
      "grid_auto_columns": null,
      "grid_auto_flow": null,
      "grid_auto_rows": null,
      "grid_column": null,
      "grid_gap": null,
      "grid_row": null,
      "grid_template_areas": null,
      "grid_template_columns": null,
      "grid_template_rows": null,
      "height": null,
      "justify_content": null,
      "justify_items": null,
      "left": null,
      "margin": null,
      "max_height": null,
      "max_width": null,
      "min_height": null,
      "min_width": null,
      "object_fit": null,
      "object_position": null,
      "order": null,
      "overflow": null,
      "overflow_x": null,
      "overflow_y": null,
      "padding": null,
      "right": null,
      "top": null,
      "visibility": null,
      "width": null
     }
    },
    "60bccfa6ede04678ae4fdef83f49b365": {
     "model_module": "@jupyter-widgets/base",
     "model_module_version": "1.2.0",
     "model_name": "LayoutModel",
     "state": {
      "_model_module": "@jupyter-widgets/base",
      "_model_module_version": "1.2.0",
      "_model_name": "LayoutModel",
      "_view_count": null,
      "_view_module": "@jupyter-widgets/base",
      "_view_module_version": "1.2.0",
      "_view_name": "LayoutView",
      "align_content": null,
      "align_items": null,
      "align_self": null,
      "border": null,
      "bottom": null,
      "display": null,
      "flex": null,
      "flex_flow": null,
      "grid_area": null,
      "grid_auto_columns": null,
      "grid_auto_flow": null,
      "grid_auto_rows": null,
      "grid_column": null,
      "grid_gap": null,
      "grid_row": null,
      "grid_template_areas": null,
      "grid_template_columns": null,
      "grid_template_rows": null,
      "height": null,
      "justify_content": null,
      "justify_items": null,
      "left": null,
      "margin": null,
      "max_height": null,
      "max_width": null,
      "min_height": null,
      "min_width": null,
      "object_fit": null,
      "object_position": null,
      "order": null,
      "overflow": null,
      "overflow_x": null,
      "overflow_y": null,
      "padding": null,
      "right": null,
      "top": null,
      "visibility": null,
      "width": null
     }
    },
    "62dfa995d7804999992cea7d390fedd1": {
     "model_module": "@jupyter-widgets/controls",
     "model_module_version": "1.5.0",
     "model_name": "DescriptionStyleModel",
     "state": {
      "_model_module": "@jupyter-widgets/controls",
      "_model_module_version": "1.5.0",
      "_model_name": "DescriptionStyleModel",
      "_view_count": null,
      "_view_module": "@jupyter-widgets/base",
      "_view_module_version": "1.2.0",
      "_view_name": "StyleView",
      "description_width": ""
     }
    },
    "771cc97be91a43a5be2ec99f5e9246a2": {
     "model_module": "@jupyter-widgets/controls",
     "model_module_version": "1.5.0",
     "model_name": "HTMLModel",
     "state": {
      "_dom_classes": [],
      "_model_module": "@jupyter-widgets/controls",
      "_model_module_version": "1.5.0",
      "_model_name": "HTMLModel",
      "_view_count": null,
      "_view_module": "@jupyter-widgets/controls",
      "_view_module_version": "1.5.0",
      "_view_name": "HTMLView",
      "description": "",
      "description_tooltip": null,
      "layout": "IPY_MODEL_aa5d36724bde4427932366a2b1b116b1",
      "placeholder": "​",
      "style": "IPY_MODEL_62dfa995d7804999992cea7d390fedd1",
      "value": " 1811/1811 [00:00&lt;00:00, 2463.75 examples/s]"
     }
    },
    "85cf249a981f44bead5e60cd0a724d53": {
     "model_module": "@jupyter-widgets/controls",
     "model_module_version": "1.5.0",
     "model_name": "HBoxModel",
     "state": {
      "_dom_classes": [],
      "_model_module": "@jupyter-widgets/controls",
      "_model_module_version": "1.5.0",
      "_model_name": "HBoxModel",
      "_view_count": null,
      "_view_module": "@jupyter-widgets/controls",
      "_view_module_version": "1.5.0",
      "_view_name": "HBoxView",
      "box_style": "",
      "children": [
       "IPY_MODEL_0659eb12dd6d446389f45bef7f47a8f9",
       "IPY_MODEL_9110f79426834b3faa2f1a35c1e5a01e",
       "IPY_MODEL_771cc97be91a43a5be2ec99f5e9246a2"
      ],
      "layout": "IPY_MODEL_87077ab262da4039b288cfc5d4f6f827"
     }
    },
    "87077ab262da4039b288cfc5d4f6f827": {
     "model_module": "@jupyter-widgets/base",
     "model_module_version": "1.2.0",
     "model_name": "LayoutModel",
     "state": {
      "_model_module": "@jupyter-widgets/base",
      "_model_module_version": "1.2.0",
      "_model_name": "LayoutModel",
      "_view_count": null,
      "_view_module": "@jupyter-widgets/base",
      "_view_module_version": "1.2.0",
      "_view_name": "LayoutView",
      "align_content": null,
      "align_items": null,
      "align_self": null,
      "border": null,
      "bottom": null,
      "display": null,
      "flex": null,
      "flex_flow": null,
      "grid_area": null,
      "grid_auto_columns": null,
      "grid_auto_flow": null,
      "grid_auto_rows": null,
      "grid_column": null,
      "grid_gap": null,
      "grid_row": null,
      "grid_template_areas": null,
      "grid_template_columns": null,
      "grid_template_rows": null,
      "height": null,
      "justify_content": null,
      "justify_items": null,
      "left": null,
      "margin": null,
      "max_height": null,
      "max_width": null,
      "min_height": null,
      "min_width": null,
      "object_fit": null,
      "object_position": null,
      "order": null,
      "overflow": null,
      "overflow_x": null,
      "overflow_y": null,
      "padding": null,
      "right": null,
      "top": null,
      "visibility": null,
      "width": null
     }
    },
    "9110f79426834b3faa2f1a35c1e5a01e": {
     "model_module": "@jupyter-widgets/controls",
     "model_module_version": "1.5.0",
     "model_name": "FloatProgressModel",
     "state": {
      "_dom_classes": [],
      "_model_module": "@jupyter-widgets/controls",
      "_model_module_version": "1.5.0",
      "_model_name": "FloatProgressModel",
      "_view_count": null,
      "_view_module": "@jupyter-widgets/controls",
      "_view_module_version": "1.5.0",
      "_view_name": "ProgressView",
      "bar_style": "success",
      "description": "",
      "description_tooltip": null,
      "layout": "IPY_MODEL_56d7ef83f0734f9781bcaeea7ff0fd63",
      "max": 1811,
      "min": 0,
      "orientation": "horizontal",
      "style": "IPY_MODEL_cb82821b57124967ac84c0f0e42015ed",
      "value": 1811
     }
    },
    "aa5d36724bde4427932366a2b1b116b1": {
     "model_module": "@jupyter-widgets/base",
     "model_module_version": "1.2.0",
     "model_name": "LayoutModel",
     "state": {
      "_model_module": "@jupyter-widgets/base",
      "_model_module_version": "1.2.0",
      "_model_name": "LayoutModel",
      "_view_count": null,
      "_view_module": "@jupyter-widgets/base",
      "_view_module_version": "1.2.0",
      "_view_name": "LayoutView",
      "align_content": null,
      "align_items": null,
      "align_self": null,
      "border": null,
      "bottom": null,
      "display": null,
      "flex": null,
      "flex_flow": null,
      "grid_area": null,
      "grid_auto_columns": null,
      "grid_auto_flow": null,
      "grid_auto_rows": null,
      "grid_column": null,
      "grid_gap": null,
      "grid_row": null,
      "grid_template_areas": null,
      "grid_template_columns": null,
      "grid_template_rows": null,
      "height": null,
      "justify_content": null,
      "justify_items": null,
      "left": null,
      "margin": null,
      "max_height": null,
      "max_width": null,
      "min_height": null,
      "min_width": null,
      "object_fit": null,
      "object_position": null,
      "order": null,
      "overflow": null,
      "overflow_x": null,
      "overflow_y": null,
      "padding": null,
      "right": null,
      "top": null,
      "visibility": null,
      "width": null
     }
    },
    "b5e901371de34758a4626c699a7667bc": {
     "model_module": "@jupyter-widgets/controls",
     "model_module_version": "1.5.0",
     "model_name": "ProgressStyleModel",
     "state": {
      "_model_module": "@jupyter-widgets/controls",
      "_model_module_version": "1.5.0",
      "_model_name": "ProgressStyleModel",
      "_view_count": null,
      "_view_module": "@jupyter-widgets/base",
      "_view_module_version": "1.2.0",
      "_view_name": "StyleView",
      "bar_color": null,
      "description_width": ""
     }
    },
    "bfef761fb0b441cc9c67b29000cd8ac3": {
     "model_module": "@jupyter-widgets/controls",
     "model_module_version": "1.5.0",
     "model_name": "HBoxModel",
     "state": {
      "_dom_classes": [],
      "_model_module": "@jupyter-widgets/controls",
      "_model_module_version": "1.5.0",
      "_model_name": "HBoxModel",
      "_view_count": null,
      "_view_module": "@jupyter-widgets/controls",
      "_view_module_version": "1.5.0",
      "_view_name": "HBoxView",
      "box_style": "",
      "children": [
       "IPY_MODEL_c12f1814f93546e6b4de31d609faef2f",
       "IPY_MODEL_5162f6d0f0d84a55856deaf50d3f9c0e",
       "IPY_MODEL_0c97276e30d8499c863ba442925ad942"
      ],
      "layout": "IPY_MODEL_d11a90f527c5498091f719786908be90"
     }
    },
    "c12f1814f93546e6b4de31d609faef2f": {
     "model_module": "@jupyter-widgets/controls",
     "model_module_version": "1.5.0",
     "model_name": "HTMLModel",
     "state": {
      "_dom_classes": [],
      "_model_module": "@jupyter-widgets/controls",
      "_model_module_version": "1.5.0",
      "_model_name": "HTMLModel",
      "_view_count": null,
      "_view_module": "@jupyter-widgets/controls",
      "_view_module_version": "1.5.0",
      "_view_name": "HTMLView",
      "description": "",
      "description_tooltip": null,
      "layout": "IPY_MODEL_f7219a22ef484f6b8889320dcf691989",
      "placeholder": "​",
      "style": "IPY_MODEL_31c72e4ac6f342b09127d97c3117f089",
      "value": "Map: 100%"
     }
    },
    "cb82821b57124967ac84c0f0e42015ed": {
     "model_module": "@jupyter-widgets/controls",
     "model_module_version": "1.5.0",
     "model_name": "ProgressStyleModel",
     "state": {
      "_model_module": "@jupyter-widgets/controls",
      "_model_module_version": "1.5.0",
      "_model_name": "ProgressStyleModel",
      "_view_count": null,
      "_view_module": "@jupyter-widgets/base",
      "_view_module_version": "1.2.0",
      "_view_name": "StyleView",
      "bar_color": null,
      "description_width": ""
     }
    },
    "d11a90f527c5498091f719786908be90": {
     "model_module": "@jupyter-widgets/base",
     "model_module_version": "1.2.0",
     "model_name": "LayoutModel",
     "state": {
      "_model_module": "@jupyter-widgets/base",
      "_model_module_version": "1.2.0",
      "_model_name": "LayoutModel",
      "_view_count": null,
      "_view_module": "@jupyter-widgets/base",
      "_view_module_version": "1.2.0",
      "_view_name": "LayoutView",
      "align_content": null,
      "align_items": null,
      "align_self": null,
      "border": null,
      "bottom": null,
      "display": null,
      "flex": null,
      "flex_flow": null,
      "grid_area": null,
      "grid_auto_columns": null,
      "grid_auto_flow": null,
      "grid_auto_rows": null,
      "grid_column": null,
      "grid_gap": null,
      "grid_row": null,
      "grid_template_areas": null,
      "grid_template_columns": null,
      "grid_template_rows": null,
      "height": null,
      "justify_content": null,
      "justify_items": null,
      "left": null,
      "margin": null,
      "max_height": null,
      "max_width": null,
      "min_height": null,
      "min_width": null,
      "object_fit": null,
      "object_position": null,
      "order": null,
      "overflow": null,
      "overflow_x": null,
      "overflow_y": null,
      "padding": null,
      "right": null,
      "top": null,
      "visibility": null,
      "width": null
     }
    },
    "dd5bc4ec16a743a9b6bf22fa47a9abae": {
     "model_module": "@jupyter-widgets/controls",
     "model_module_version": "1.5.0",
     "model_name": "DescriptionStyleModel",
     "state": {
      "_model_module": "@jupyter-widgets/controls",
      "_model_module_version": "1.5.0",
      "_model_name": "DescriptionStyleModel",
      "_view_count": null,
      "_view_module": "@jupyter-widgets/base",
      "_view_module_version": "1.2.0",
      "_view_name": "StyleView",
      "description_width": ""
     }
    },
    "f3826d14abc944af81b0d04dbe4385b1": {
     "model_module": "@jupyter-widgets/controls",
     "model_module_version": "1.5.0",
     "model_name": "DescriptionStyleModel",
     "state": {
      "_model_module": "@jupyter-widgets/controls",
      "_model_module_version": "1.5.0",
      "_model_name": "DescriptionStyleModel",
      "_view_count": null,
      "_view_module": "@jupyter-widgets/base",
      "_view_module_version": "1.2.0",
      "_view_name": "StyleView",
      "description_width": ""
     }
    },
    "f7219a22ef484f6b8889320dcf691989": {
     "model_module": "@jupyter-widgets/base",
     "model_module_version": "1.2.0",
     "model_name": "LayoutModel",
     "state": {
      "_model_module": "@jupyter-widgets/base",
      "_model_module_version": "1.2.0",
      "_model_name": "LayoutModel",
      "_view_count": null,
      "_view_module": "@jupyter-widgets/base",
      "_view_module_version": "1.2.0",
      "_view_name": "LayoutView",
      "align_content": null,
      "align_items": null,
      "align_self": null,
      "border": null,
      "bottom": null,
      "display": null,
      "flex": null,
      "flex_flow": null,
      "grid_area": null,
      "grid_auto_columns": null,
      "grid_auto_flow": null,
      "grid_auto_rows": null,
      "grid_column": null,
      "grid_gap": null,
      "grid_row": null,
      "grid_template_areas": null,
      "grid_template_columns": null,
      "grid_template_rows": null,
      "height": null,
      "justify_content": null,
      "justify_items": null,
      "left": null,
      "margin": null,
      "max_height": null,
      "max_width": null,
      "min_height": null,
      "min_width": null,
      "object_fit": null,
      "object_position": null,
      "order": null,
      "overflow": null,
      "overflow_x": null,
      "overflow_y": null,
      "padding": null,
      "right": null,
      "top": null,
      "visibility": null,
      "width": null
     }
    }
   }
  }
 },
 "nbformat": 4,
 "nbformat_minor": 1
}
